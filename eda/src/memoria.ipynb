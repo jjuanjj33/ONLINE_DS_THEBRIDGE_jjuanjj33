{
 "cells": [
  {
   "cell_type": "markdown",
   "id": "2c4621f5",
   "metadata": {},
   "source": [
    "MEMORIA - Proyecto de EDA: Restaurantes y Renta en Madrid\n",
    "\n",
    "1. Introducción\n",
    "\n",
    "Este proyecto se desarrolla dentro del módulo de Análisis Exploratorio de Datos (EDA) del bootcamp de Data Science de The Bridge. Su objetivo es analizar el contexto gastronómico en los distintos distritos de Madrid, como base para identificar posibles patrones urbanos que relacionen la oferta de restauración con los datos socioeconómicos.\n",
    "\n",
    "2. Objetivos\n",
    "\n",
    "- Analizar la repartición de todos los restaurantes posibles dentro de Madrid.\n",
    "Analizar el censo de cada uno de los distritos de la capital.\n",
    "Comprobar si existe alguna correlación entre población y cantidad de restaurantes.\n",
    "\n",
    "- Analizar la renta neta media por persona en los 21 distritos de Madrid.\n",
    "Analizar la distribución de los restaurantes más costosos de la ciudad.\n",
    "Visualizar espacialmente si existen una correlación.\n",
    "\n",
    "- Analizar los restaurantes más prestigiosos del mundo.\n",
    "Compararlos con los ubicados en España.\n",
    "Geolocalizar estos restaurantes.\n",
    "\n",
    "3. Descripción de los datos\n",
    "\n",
    "- **Madrid_rentapercapita.json**: Dataset con renta neta media por persona en los distritos de Madrid,\n",
    "- **export.geojson**: Archivo con geometrías de los distritos de Madrid,\n",
    "- **michelin_my_maps.csv**: Archivo con geometrías de los restaurantes Michelín en el Mundo,\n",
    "- **Poblacion_Madrid.csv**: Documento con el censo por distrito y por año de la ciudad de Madrid\n",
    "\n",
    "Hemos descartado en este estudio algunos documentos por falta de datos que nos ayuden a la construcción del EDA.\n",
    "\n",
    "4. Metodología\n",
    "\n",
    "Conexión con API y busqueda de data sets que nos proporcionan datos suficientes para sacar conclusiones.\n",
    "Importación de distintas librerías.\n",
    "Limpieza del dataset: extracción de columnas clave y transformación a Geo Pandas.\n",
    "La parte más dificil, fue entender como funcionaba geopanda y sus geometrías en diferentes escalas.\n",
    "Unificación de geolocalización de distrito para permitir el merge.\n",
    "Análisis descriptivo: count, sum, groupby, histograma.\n",
    "Visualización: mapa coroplético con geopandas y matplotlib.\n",
    "\n",
    "5. Resultados\n",
    "\n",
    "La densidad de población no se traduce necesariamente en una mayor concentración de restaurantes.\n",
    "La renta sí muestra una correlación evidente con la presencia de establecimientos de mayor nivel adquisitivo.\n",
    "La gastronomía española destaca a nivel internacional por su calidad, con una presencia significativa en la guía Michelín.\n",
    "\n",
    "6. Conclusiones y futuras líneas\n",
    "\n",
    "El análisis pone de manifiesto una desigualdad marcada entre distritos madrileños.\n",
    "El contexto socioeconómico resulta determinante en la distribución de la oferta gastronómica.\n",
    "Diversos factores ajenos a la propia gastronomía parecen condicionar fuertemente el desarrollo del sector hostelero tanto en Madrid como en el conjunto del país."
   ]
  },
  {
   "cell_type": "markdown",
   "id": "0fdb841e",
   "metadata": {},
   "source": []
  }
 ],
 "metadata": {
  "language_info": {
   "name": "python"
  }
 },
 "nbformat": 4,
 "nbformat_minor": 5
}
