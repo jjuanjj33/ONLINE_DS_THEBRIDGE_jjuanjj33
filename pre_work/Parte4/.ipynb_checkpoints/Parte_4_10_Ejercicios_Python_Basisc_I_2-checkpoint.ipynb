{
 "cells": [
  {
   "cell_type": "markdown",
   "metadata": {
    "id": "GB2K42EgK9q5"
   },
   "source": [
    "![TheBridge_logo_RGB_color.jpg](attachment:TheBridge_logo_RGB_color.jpg)"
   ]
  },
  {
   "cell_type": "markdown",
   "metadata": {
    "id": "GnwVlO37K9q6"
   },
   "source": [
    "![imagen](./img/ejercicios.png)"
   ]
  },
  {
   "cell_type": "markdown",
   "metadata": {
    "id": "_9pTa0PXK9q6"
   },
   "source": [
    "## EJERCICIOS PYTHON BASICO 2:\n",
    "## Tipos y conversión de tipos"
   ]
  },
  {
   "cell_type": "markdown",
   "metadata": {
    "id": "tYmV-veoK9q6"
   },
   "source": [
    "Completa los siguiente ejercicios, la solución a los mismos se publicarán en el repo del curso a lo largo del sprint"
   ]
  },
  {
   "cell_type": "markdown",
   "metadata": {
    "id": "YAdFbIOXK9q7"
   },
   "source": [
    "![ejercicio.png](./img/ejercicio.png)\n",
    "\n",
    "## Ejercicio 1\n",
    "\n",
    "1. Crea dos variables numericas: un `int` y un `float`\n",
    "2. Comprueba sus tipos\n",
    "3. Sumalas en otra nueva\n",
    "4. ¿De qué tipo es la nueva variable?\n",
    "5. Elimina las dos primeras variables creadas"
   ]
  },
  {
   "cell_type": "code",
   "execution_count": 17,
   "metadata": {
    "id": "8QZmuLOsK9q7"
   },
   "outputs": [
    {
     "name": "stdout",
     "output_type": "stream",
     "text": [
      "la primera variable, 'int' es:  19\n",
      "la segunda variable, 'float' es:  17.19\n",
      "El tipo de la primera variable es:  <class 'int'>\n",
      "El tipo de la segunda variable es:  <class 'float'>\n",
      "La suma de ambas variables es:  36.19\n",
      "El tipo de la nueva variable es:  <class 'float'>\n",
      "Las dos primeras variables han sido eliminadas.\n"
     ]
    }
   ],
   "source": [
    "#1 Crea dos variables numericas: un int y un float\n",
    "numero_int = 19\n",
    "numero_float = 17.19\n",
    "print(\"la primera variable, 'int' es: \",numero_int)\n",
    "print(\"la segunda variable, 'float' es: \",numero_float)\n",
    "\n",
    "#2 Comprueba sus tipos\n",
    "print(\"El tipo de la primera variable es: \",type(numero_int))\n",
    "print(\"El tipo de la segunda variable es: \",type(numero_float))\n",
    "\n",
    "#3 Sumalas en otra nueva\n",
    "numeros_sumados = numero_int + numero_float\n",
    "print(\"La suma de ambas variables es: \",numeros_sumados)\n",
    "\n",
    "#4 ¿De qué tipo es la nueva variable?\n",
    "print(\"El tipo de la nueva variable es: \",type(numeros_sumados))\n",
    "\n",
    "#5 Elimina las dos primeras variables creadas\n",
    "del(numero_int)\n",
    "del(numero_float)\n",
    "print(\"Las dos primeras variables han sido eliminadas.\")"
   ]
  },
  {
   "cell_type": "markdown",
   "metadata": {
    "id": "f5xfpkpQK9q7"
   },
   "source": [
    "![ejercicio.png](./img/ejercicio.png)\n",
    "\n",
    "## Ejercicio 2\n",
    "Escribe un programa para pasar de grados a radianes. Hay que usar `input`. Recuerda que la conversión se realiza mediante\n",
    "\n",
    "radianes = grados*(pi/180)"
   ]
  },
  {
   "cell_type": "code",
   "execution_count": 26,
   "metadata": {
    "id": "V50TUQMzK9q7"
   },
   "outputs": [
    {
     "name": "stdin",
     "output_type": "stream",
     "text": [
      "¿Cuál es el valor númerico de 'grados' que quieres convertir a 'radianes'? 100\n"
     ]
    },
    {
     "name": "stdout",
     "output_type": "stream",
     "text": [
      "La conversión de  100 grados son:  1.75 radianes\n"
     ]
    }
   ],
   "source": [
    "grados = float(input(\"¿Cuál es el valor númerico de 'grados' que quieres convertir a 'radianes'?\"))\n",
    "radianes = grados*(3.141592653589793/180)\n",
    "radianes =round(radianes,2)\n",
    "grados = int(grados) #volver a convertir grados a int.\n",
    "\n",
    "print(\"La conversión de \", grados, \"grados son: \",radianes, \"radianes\")"
   ]
  },
  {
   "cell_type": "markdown",
   "metadata": {
    "id": "zX3-p58CK9q7"
   },
   "source": [
    "![ejercicio.png](./img/ejercicio.png)\n",
    "\n",
    "## Ejercicio 3\n",
    "Escribe un programa que calcule el area de un paralelogramo (base x altura). También con `input`"
   ]
  },
  {
   "cell_type": "code",
   "execution_count": 38,
   "metadata": {
    "id": "s2QfNiBAK9q7"
   },
   "outputs": [
    {
     "name": "stdin",
     "output_type": "stream",
     "text": [
      "¿Cuál es el valor de la base de tu paralelogramo? 32.5\n",
      "¿Cuál es el valor de la altura de tu paralelogramo? 32.5\n"
     ]
    },
    {
     "name": "stdout",
     "output_type": "stream",
     "text": [
      "El area de tu paralelogramo es de:  1056.25 unidad al cuadrado.\n"
     ]
    }
   ],
   "source": [
    "base = float(input(\"¿Cuál es el valor de la base de tu paralelogramo?\"))\n",
    "altura = float(input(\"¿Cuál es el valor de la altura de tu paralelogramo?\"))\n",
    "\n",
    "area = base*altura\n",
    "\n",
    "print(\"El area de tu paralelogramo es de: \",area,\"unidad al cuadrado.\")"
   ]
  },
  {
   "cell_type": "markdown",
   "metadata": {
    "id": "-6TBo_HvK9q8"
   },
   "source": [
    "![ejercicio.png](./img/ejercicio.png)\n",
    "\n",
    "## Ejercicio 4\n",
    "Escribe un programa que calcule el area de un paralelogramo (base x altura). También con `input`. En este caso debe ser capaz de admitir valores reales, con decimales, para base y altura en español. (PISTA: Recuerda que tendrás que hacer uso del método replace)"
   ]
  },
  {
   "cell_type": "code",
   "execution_count": 37,
   "metadata": {
    "id": "uzUIa1JqK9q8"
   },
   "outputs": [
    {
     "name": "stdin",
     "output_type": "stream",
     "text": [
      "¿Cuál es el valor de la base de tu paralelogramo? 32,5\n",
      "¿Cuál es el valor de la altura de tu paralelogramo? 43,5\n"
     ]
    },
    {
     "name": "stdout",
     "output_type": "stream",
     "text": [
      "El area de tu paralelogramo es de:  1413,75 unidad al cuadrado.\n"
     ]
    }
   ],
   "source": [
    "base = float(input(\"¿Cuál es el valor de la base de tu paralelogramo?\").replace(\",\",\".\"))\n",
    "altura = float(input(\"¿Cuál es el valor de la altura de tu paralelogramo?\").replace(\",\",\".\"))\n",
    "\n",
    "area = base*altura\n",
    "\n",
    "print(\"El area de tu paralelogramo es de: \",str(area).replace(\".\",\",\"),\"unidad al cuadrado.\")"
   ]
  },
  {
   "cell_type": "markdown",
   "metadata": {
    "id": "5zKugi5iK9q8"
   },
   "source": [
    "![ejercicio.png](./img/ejercicio.png)\n",
    "\n",
    "## Ejercicio 5\n",
    "Complete el siguiente código para solicitar al usuario su nombre y su edad. Luego, calcule en qué año nació el usuario y muestre el resultado."
   ]
  },
  {
   "cell_type": "code",
   "execution_count": 39,
   "metadata": {
    "id": "LISfTnRkK9q8"
   },
   "outputs": [
    {
     "name": "stdin",
     "output_type": "stream",
     "text": [
      "¿Cuál es tu nombre?  Jerome\n",
      "¿Cuál es tu edad?  39\n"
     ]
    },
    {
     "name": "stdout",
     "output_type": "stream",
     "text": [
      "Jerome, naciste en el año 1986.\n"
     ]
    }
   ],
   "source": [
    "nombre = input(\"¿Cuál es tu nombre? \")\n",
    "edad = int(input(\"¿Cuál es tu edad? \"))\n",
    "año_actual = 2025  # Puedes cambiarlo según el año en curso\n",
    "año_nacimiento = año_actual - edad\n",
    "\n",
    "print(f\"{nombre}, naciste en el año {año_nacimiento}.\")\n"
   ]
  },
  {
   "cell_type": "code",
   "execution_count": null,
   "metadata": {},
   "outputs": [],
   "source": []
  }
 ],
 "metadata": {
  "colab": {
   "provenance": []
  },
  "kernelspec": {
   "display_name": "Python 3 (ipykernel)",
   "language": "python",
   "name": "python3"
  },
  "language_info": {
   "codemirror_mode": {
    "name": "ipython",
    "version": 3
   },
   "file_extension": ".py",
   "mimetype": "text/x-python",
   "name": "python",
   "nbconvert_exporter": "python",
   "pygments_lexer": "ipython3",
   "version": "3.10.11"
  }
 },
 "nbformat": 4,
 "nbformat_minor": 4
}
