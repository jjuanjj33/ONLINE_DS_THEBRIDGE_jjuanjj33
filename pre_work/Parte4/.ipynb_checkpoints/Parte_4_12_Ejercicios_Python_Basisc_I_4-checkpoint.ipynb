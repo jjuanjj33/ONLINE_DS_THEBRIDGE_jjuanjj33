{
 "cells": [
  {
   "cell_type": "markdown",
   "metadata": {
    "id": "Ekasr_fl1BcU"
   },
   "source": [
    "![TheBridge_logo_RGB_color.jpg](attachment:TheBridge_logo_RGB_color.jpg)"
   ]
  },
  {
   "cell_type": "markdown",
   "metadata": {
    "id": "FULjLGbq1Bcb"
   },
   "source": [
    "![imagen](./img/ejercicios.png)"
   ]
  },
  {
   "cell_type": "markdown",
   "metadata": {
    "id": "GDbdMAE11Bcd"
   },
   "source": [
    "## EJERCICIOS PYTHON BASICO 4:\n",
    "## Funciones, métodos, listas"
   ]
  },
  {
   "cell_type": "markdown",
   "metadata": {
    "id": "Sw91zTN_1Bce"
   },
   "source": [
    "Completa los siguiente ejercicios, la solución completa a los mismos se publicarán en el repo del curso a lo largo del sprint. En algunos ejercicios se muestra la solución final, para que puedas comprobar que lo has hecho bien, pero lo importante es el código que generes. ¡Vaaamos, a ello...!"
   ]
  },
  {
   "cell_type": "markdown",
   "metadata": {
    "id": "OxwuxuAc1Bcf"
   },
   "source": [
    "![ejercicio.png](./img/ejercicio.png)\n",
    "\n",
    "## Ejercicio 1\n",
    "Para este ejercicio vamos a poner en práctica [las funciones built in](https://docs.python.org/3/library/functions.html).\n",
    "\n",
    "1. Calcula el máximo de la lista: [4, 6, 8, -1]\n",
    "2. Suma todos los elementos de la lista anterior\n",
    "3. Redondea este float a 3 dígitos decimales: 63.451256965\n",
    "4. Valor absoluto de: -74"
   ]
  },
  {
   "cell_type": "code",
   "execution_count": 13,
   "metadata": {
    "id": "TONjCMii1Bcg"
   },
   "outputs": [
    {
     "name": "stdout",
     "output_type": "stream",
     "text": [
      "Nuestra lista es la siguiente:  [4, 6, 8, -1] /n\n",
      "El máximo de nuestra lista es:  8\n",
      "La suma de los números de nuestra lista es:  17\n",
      "Nuestro número se redondea a:  63.451\n",
      "El valor absoluto de nuestro número es:  74\n"
     ]
    }
   ],
   "source": [
    "#1 Calcula el máximo de la lista: [4, 6, 8, -1]\n",
    "lista = [4, 6, 8, -1]\n",
    "print(\"Nuestra lista es la siguiente: \",lista,)\n",
    "print(\"El máximo de nuestra lista es: \",max(lista))\n",
    "\n",
    "#2 Suma todos los elementos de la lista anterior\n",
    "print (\"La suma de los números de nuestra lista es: \",sum(lista))\n",
    "\n",
    "#3 Redondea este float a 3 dígitos decimales: 63.451256965\n",
    "numero_float = 63.451256965\n",
    "print(\"Nuestro número se redondea a: \",round(numero_float,3))\n",
    "\n",
    "#4 Valor absoluto de: -74\n",
    "numero_negativo = -74\n",
    "print(\"El valor absoluto de nuestro número es: \",abs(numero_negativo))"
   ]
  },
  {
   "cell_type": "markdown",
   "metadata": {
    "id": "kos44BXM1Bch"
   },
   "source": [
    "![ejercicio.png](./img/ejercicio.png)\n",
    "\n",
    "## Ejercicio 2\n",
    "Para el siguiente string se pide imprimir por pantalla los siguientes casos\n",
    "\n",
    "    \"En un lugar de la Mancha, de cuyo nombre no quiero acordarme.\"\n",
    "\n",
    "1. Pásalo todo a mayúsculas\n",
    "2. Pásalo todo a minúsculas\n",
    "3. Solo la primera letra de cada palabra en mayúscula, el resto en minúscula\n",
    "4. Crea una lista dividiéndolo por sus espacios\n",
    "5. Sustituye las comas `,` por puntos y comas `;`\n",
    "6. Elimina las `a` minúsculas"
   ]
  },
  {
   "cell_type": "code",
   "execution_count": 41,
   "metadata": {
    "id": "SEaCqGt_1Bck",
    "outputId": "fc947f3f-61ff-492a-d12c-b4100e5ec13c"
   },
   "outputs": [
    {
     "name": "stdout",
     "output_type": "stream",
     "text": [
      "Nuestro texto es:\n",
      " En un lugar de la Mancha, de cuyo nombre no quiero acordarme. \n",
      "\n",
      "Nuestro texto pasado todo a mayúsculas es:\n",
      " EN UN LUGAR DE LA MANCHA, DE CUYO NOMBRE NO QUIERO ACORDARME. \n",
      "\n",
      "Nuestro texto pasado todo a minúsculas es:\n",
      " en un lugar de la mancha, de cuyo nombre no quiero acordarme. \n",
      "\n",
      "Nuestro texto con la primera letra de cada palabra en mayúscula es:\n",
      " En Un Lugar De La Mancha, De Cuyo Nombre No Quiero Acordarme. \n",
      "\n",
      "Nuestra lista es:\n",
      " ['En', 'un', 'lugar', 'de', 'la', 'Mancha,', 'de', 'cuyo', 'nombre', 'no', 'quiero', 'acordarme.'] \n",
      "\n",
      "Nuestro texto con las comas sustituídas por puntos y comas es:\n",
      " En un lugar de la Mancha; de cuyo nombre no quiero acordarme. \n",
      "\n",
      "Nuestro texto sin las a minúsculas es:\n",
      " En un lugr de l Mnch, de cuyo nombre no quiero cordrme.\n"
     ]
    }
   ],
   "source": [
    "#1 Pásalo todo a mayúsculas\n",
    "texto = \"En un lugar de la Mancha, de cuyo nombre no quiero acordarme.\"\n",
    "print(\"Nuestro texto es:\\n\",texto,\"\\n\")\n",
    "print(\"Nuestro texto pasado todo a mayúsculas es:\\n\",texto.upper(),\"\\n\")\n",
    "\n",
    "#2 Pásalo todo a minúsculas\n",
    "print(\"Nuestro texto pasado todo a minúsculas es:\\n\",texto.lower(),\"\\n\")\n",
    "\n",
    "#3 Solo la primera letra de cada palabra en mayúscula, el resto en minúscula\n",
    "print(\"Nuestro texto con la primera letra de cada palabra en mayúscula es:\\n\",texto.title(),\"\\n\")\n",
    "\n",
    "#4 Crea una lista dividiéndolo por sus espacios\n",
    "lista = texto.split(\" \")\n",
    "print(\"Nuestra lista es:\\n\",lista,\"\\n\")\n",
    "\n",
    "#5 Sustituye las comas , por puntos y comas ;\n",
    "print(\"Nuestro texto con las comas sustituídas por puntos y comas es:\\n\",texto.replace(\",\",\";\"),\"\\n\")\n",
    "\n",
    "#6 Elimina las a minúsculas\n",
    "print(\"Nuestro texto sin las a minúsculas es:\\n\",texto.replace(\"a\",\"\"))\n"
   ]
  },
  {
   "cell_type": "markdown",
   "metadata": {
    "id": "1nY6JQr01Bcm"
   },
   "source": [
    "![ejercicio.png](./img/ejercicio.png)\n",
    "\n",
    "## Ejercicio 3\n",
    "1. Crea una lista con 3 elementos numéricos\n",
    "2. Añade un cuarto elemento\n",
    "3. Calcula la suma de todos\n",
    "4. Elimina el segundo elemento de la lista\n",
    "5. Añade otro elemento en la posicion 3 de la lista\n",
    "6. Crea otra lista con 4 elementos y concaténala a la que ya tenías.\n",
    "7. Ordena la lista de menor a mayor.\n",
    "8. BONUS: Ordena la lista de mayor a menor.  \n",
    "(*PISTA: Para hacer 8, tendrás que buscar en la información del método...*)  \n",
    "  \n",
    "  \n",
    "NOTA: Pinta por pantalla el resultado de cada paso."
   ]
  },
  {
   "cell_type": "code",
   "execution_count": 78,
   "metadata": {
    "id": "evGCzmUU1Bcm",
    "outputId": "e247a053-8be1-4fad-bded-c4f9f3f71621"
   },
   "outputs": [
    {
     "name": "stdout",
     "output_type": "stream",
     "text": [
      "#1. Nuestra lista es:  [1, 2, 3]\n",
      "#2. Nuestra lista con el cuarto elemento es:  [1, 2, 3, 4]\n",
      "#3. La suma de todos los elementos es:  10\n",
      "#4. Nuestra lista sin el segundo elemento es:  [1, 3, 4]\n",
      "#5. Nuestra lista con un nuevo tercer elemento es:  [1, 3, 666, 4]\n",
      "#6. Nuestra lista concatenada es:  [1, 3, 666, 4, 55, 99, 15, 23]\n",
      "#7. Nuestra lista ordenada de menor a mayor es:  [1, 3, 4, 15, 23, 55, 99, 666]\n",
      "#8. Nuestra lista ordenada de mayor a menor es:  [666, 99, 55, 23, 15, 4, 3, 1]\n"
     ]
    }
   ],
   "source": [
    "#1 Crea una lista con 3 elementos numéricos\n",
    "lista = [1, 2, 3]\n",
    "print(\"#1. Nuestra lista es: \",lista)\n",
    "\n",
    "#2 Añade un cuarto elemento\n",
    "lista.append(4)\n",
    "print(\"#2. Nuestra lista con el cuarto elemento es: \",lista)\n",
    "\n",
    "#3 Calcula la suma de todos\n",
    "print(\"#3. La suma de todos los elementos es: \",sum(lista))\n",
    "\n",
    "#4 Elimina el segundo elemento de la lista\n",
    "lista.pop(1)\n",
    "print(\"#4. Nuestra lista sin el segundo elemento es: \",lista)\n",
    "\n",
    "#5 Añade otro elemento en la posicion 3 de la lista\n",
    "lista.insert(2,666)\n",
    "print(\"#5. Nuestra lista con un nuevo tercer elemento es: \",lista)\n",
    "\n",
    "#6 Crea otra lista con 4 elementos y concaténala a la que ya tenías.\n",
    "lista2 = [55,99,15,23]\n",
    "lista = lista + lista2\n",
    "print(\"#6. Nuestra lista concatenada es: \", lista)\n",
    "\n",
    "#7 Ordena la lista de menor a mayor.\n",
    "lista.sort()\n",
    "print(\"#7. Nuestra lista ordenada de menor a mayor es: \",lista)\n",
    "\n",
    "#8 BONUS: Ordena la lista de mayor a menor.\n",
    "lista.reverse()\n",
    "print(\"#8. Nuestra lista ordenada de mayor a menor es: \",lista)\n"
   ]
  },
  {
   "cell_type": "code",
   "execution_count": null,
   "metadata": {},
   "outputs": [],
   "source": []
  }
 ],
 "metadata": {
  "colab": {
   "provenance": []
  },
  "kernelspec": {
   "display_name": "Python 3 (ipykernel)",
   "language": "python",
   "name": "python3"
  },
  "language_info": {
   "codemirror_mode": {
    "name": "ipython",
    "version": 3
   },
   "file_extension": ".py",
   "mimetype": "text/x-python",
   "name": "python",
   "nbconvert_exporter": "python",
   "pygments_lexer": "ipython3",
   "version": "3.10.11"
  }
 },
 "nbformat": 4,
 "nbformat_minor": 4
}
