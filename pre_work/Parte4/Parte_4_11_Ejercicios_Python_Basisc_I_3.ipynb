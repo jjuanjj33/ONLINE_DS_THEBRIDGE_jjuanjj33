{
 "cells": [
  {
   "cell_type": "markdown",
   "metadata": {
    "id": "j5yKwSQI02kF"
   },
   "source": [
    "![TheBridge_logo_RGB_color.jpg](attachment:TheBridge_logo_RGB_color.jpg)"
   ]
  },
  {
   "cell_type": "markdown",
   "metadata": {
    "id": "LccMBa-B02kN"
   },
   "source": [
    "![imagen](./img/ejercicios.png)"
   ]
  },
  {
   "cell_type": "markdown",
   "metadata": {
    "id": "AFosiFMe02kO"
   },
   "source": [
    "## EJERCICIOS PYTHON BASICO 3:\n",
    "## Operaciones matemáticas, comparación y booleanas"
   ]
  },
  {
   "cell_type": "markdown",
   "metadata": {
    "id": "bk92A_ls02kP"
   },
   "source": [
    "Completa los siguiente ejercicios, la solución completa a los mismos se publicarán en el repo del curso a lo largo del sprint. En algunos ejercicios se muestra la solución final, para que puedas comprobar que lo has hecho bien, pero lo importante es el código que generes. ¡Vaaamos, a ello...!"
   ]
  },
  {
   "cell_type": "markdown",
   "metadata": {
    "id": "2HcGeUmh02kQ"
   },
   "source": [
    "![ejercicio.png](./img/ejercicio.png)\n",
    "\n",
    "\n",
    "## Ejercicio 1\n",
    "Tenemos las siguientes variables:\n",
    "\n",
    "```Python\n",
    "A = 4\n",
    "B = \"Text\"\n",
    "C = 4.1\n",
    "```\n",
    "\n",
    "Comprueba:\n",
    "1. Si A y B son equivalentes\n",
    "2. Si A y C NO son equivalentes\n",
    "3. Si A es mayor que C\n",
    "4. Si C es menor o igual que A\n",
    "5. Si B NO es equivalente a C"
   ]
  },
  {
   "cell_type": "code",
   "execution_count": 4,
   "metadata": {
    "id": "ZcjBq-EY02kS",
    "outputId": "12a6b77b-1aa4-4c19-b6a6-d90d1dc09a4d"
   },
   "outputs": [
    {
     "name": "stdout",
     "output_type": "stream",
     "text": [
      "False\n",
      "True\n",
      "False\n",
      "False\n",
      "True\n"
     ]
    }
   ],
   "source": [
    "A = 4\n",
    "B = \"Text\"\n",
    "C = 4.1\n",
    "\n",
    "print(A == B)\n",
    "print(A != C)\n",
    "print(A > C)\n",
    "print(C < A)\n",
    "print(B != C)"
   ]
  },
  {
   "cell_type": "markdown",
   "metadata": {
    "id": "uVFfGMB602kX"
   },
   "source": [
    "![ejercicio.png](./img/ejercicio.png)\n",
    "\n",
    "## Ejercicio 2\n",
    "Crea un programa donde se recojan dos inputs del usuario, y el output del programa sea si esos inputs son iguales o no"
   ]
  },
  {
   "cell_type": "code",
   "execution_count": 7,
   "metadata": {
    "id": "i-lrqzFf02kY"
   },
   "outputs": [
    {
     "name": "stdin",
     "output_type": "stream",
     "text": [
      "Diga 'sí' o 'no':  no\n",
      "Diga otra vez 'sí' o 'no' (puede elegir o no la misma respuesta):  no\n"
     ]
    },
    {
     "name": "stdout",
     "output_type": "stream",
     "text": [
      "Sus respuesta han sido iguales?  True\n"
     ]
    }
   ],
   "source": [
    "input1 = input(\"Diga 'sí' o 'no': \")\n",
    "input2 = input(\"Diga otra vez 'sí' o 'no' (puede elegir o no la misma respuesta): \")\n",
    "output = input1 == input2\n",
    "\n",
    "print(\"Sus respuesta han sido iguales? \",output)"
   ]
  },
  {
   "cell_type": "markdown",
   "metadata": {
    "id": "2MXAqc4402kZ"
   },
   "source": [
    "![ejercicio.png](./img/ejercicio.png)\n",
    "\n",
    "## Ejercicio 3\n",
    "Mismo programa que en 2, pero en esta ocasión tienen que ser tres inputs y dos salidas. Una de las salidas que nos indique si todos son iguales, y la otra si al menos dos inputs sí que lo son"
   ]
  },
  {
   "cell_type": "code",
   "execution_count": 11,
   "metadata": {
    "id": "qwTvpHPT02ka",
    "outputId": "ff5e365a-4872-4d71-de2c-b2ce6242d6e6"
   },
   "outputs": [
    {
     "name": "stdin",
     "output_type": "stream",
     "text": [
      "Diga un número entre el '1' y el '3':  1\n",
      "Otra vez:  2\n",
      "Otra vez...(la última vez, prometido):  1\n"
     ]
    },
    {
     "name": "stdout",
     "output_type": "stream",
     "text": [
      "Sus respuesta han sido todas iguales?  False\n",
      "Sus respuesta han coincidido al menos dos iguales?  True\n"
     ]
    }
   ],
   "source": [
    "input1 = int(input(\"Diga un número entre el '1' y el '3': \"))\n",
    "input2 = int(input(\"Otra vez: \"))\n",
    "input3 = int(input(\"Otra vez...(la última vez, prometido): \"))\n",
    "output1 = (input1 == input2 and input2 == input3 and input3 == input1)\n",
    "output2 = (input1 == input2 or input2 == input3 or input3 == input1)\n",
    "\n",
    "print(\"Sus respuesta han sido todas iguales? \",output1)\n",
    "print(\"Sus respuesta han coincidido al menos dos iguales? \",output2)"
   ]
  },
  {
   "cell_type": "markdown",
   "metadata": {
    "id": "dFtuf2c-02ka"
   },
   "source": [
    "![ejercicio.png](./img/ejercicio.png)\n",
    "\n",
    "## Ejercicio 4\n",
    "Razona sin ejecutar código el output que obtendremos de las siguientes sentencias\n",
    "1. True and True and False\n",
    "2. not ((True or False) and (True or False))\n",
    "3. (False or False or False or True) and False\n",
    "4. not False and True and not True"
   ]
  },
  {
   "cell_type": "markdown",
   "metadata": {
    "id": "UDY42YrE02kb"
   },
   "source": [
    "1. False - porque no se cumplen los tres estados True and True OK pero con False, falla.\n",
    "2. False - \"True or False), sería entonces True, y con la misma condición obtenemos not True, que sería False.\n",
    "3. False - la primera parte entre parentesis daría True pero con el AND False, obtenemos un False\n",
    "4. False - la primera parte sería True pero con el not True sería False."
   ]
  }
 ],
 "metadata": {
  "colab": {
   "provenance": []
  },
  "kernelspec": {
   "display_name": "Python 3 (ipykernel)",
   "language": "python",
   "name": "python3"
  },
  "language_info": {
   "codemirror_mode": {
    "name": "ipython",
    "version": 3
   },
   "file_extension": ".py",
   "mimetype": "text/x-python",
   "name": "python",
   "nbconvert_exporter": "python",
   "pygments_lexer": "ipython3",
   "version": "3.10.11"
  }
 },
 "nbformat": 4,
 "nbformat_minor": 4
}
