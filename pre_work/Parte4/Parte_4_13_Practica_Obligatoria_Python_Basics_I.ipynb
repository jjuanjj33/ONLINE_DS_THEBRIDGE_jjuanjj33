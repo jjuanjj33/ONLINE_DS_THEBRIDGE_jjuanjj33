{
 "cells": [
  {
   "cell_type": "markdown",
   "metadata": {
    "id": "BNCAebJANPxq"
   },
   "source": [
    "![TheBridge_logo_RGB_color.jpg](attachment:TheBridge_logo_RGB_color.jpg)"
   ]
  },
  {
   "cell_type": "markdown",
   "metadata": {
    "id": "A9eDZvZaNPxs"
   },
   "source": [
    "![imagen](./img/ejercicios.png)"
   ]
  },
  {
   "cell_type": "markdown",
   "metadata": {
    "id": "59zPhBxXNPxs"
   },
   "source": [
    "## PRACTICA OBLIGATORIA: PYTHON"
   ]
  },
  {
   "cell_type": "markdown",
   "metadata": {
    "id": "mv2kb1GMNPxs"
   },
   "source": [
    "* La práctica obligatoria de esta unidad consiste en dos ejercicios de programación libre a completar.   \n",
    "* Recuerda que debes subirla a tu repositorio personal antes de la sesión en vivo para que puntúe adecuadamente.  \n",
    "* Recuerda también que no es necesario que esté perfecta, sólo es necesario que se vea el esfuerzo.\n",
    "* Esta práctica se resolverá en la sesión en vivo correspondiente y la solución se publicará en el repo del curso."
   ]
  },
  {
   "cell_type": "markdown",
   "metadata": {
    "id": "Kl9JzST2NPxt"
   },
   "source": [
    "![ejercicio.png](./img/ejercicio.png)\n",
    "## PARTE I\n",
    "\n",
    "En este ejercicio debes simular un chatbot al que le haremos pedidos de pizzas.\n",
    "\n",
    "1. El chatbot tiene que saludar con un: \"Buenas tardes, bienvenido al servicio de pedido online, el precio de nuestra pizzas es de 8,95 para la familiar o de 9,90 para la mediana ¿Cuántas pizzas  familiares desea?\"\n",
    "2. El ususario tiene que introducir un número de pizzas en una variable llamada 'pizz_familiar'\n",
    "3. El chatbot debe responder: \"Estupendo, ¿cuántas pizzas medianas desea?\" y guardar el número de pizzas medianas en otra variable 'pizz_mediana'\n",
    "4. Además debe responder del chatbot: \"Estupendo, se están preparando 'pizz' pizzas familiares y 'pizz_mediana' pizzas medianas. Digame su dirección\"\n",
    "5. El ususario tiene que introducir una direccion en formato String en otra variable llamada 'direcc'\n",
    "6. El programa debe calcular el monto total\n",
    "7. Respuesta final del chatbot: \"Le mandaremos las '(número total de pizzas)' pizzas a la dirección 'direcc'. Serán <precio total a pagar en euros>. Muchas gracias por su pedido.\"\n",
    "         \n"
   ]
  },
  {
   "cell_type": "code",
   "execution_count": 20,
   "metadata": {
    "id": "qkKibyt-NPxt"
   },
   "outputs": [
    {
     "name": "stdin",
     "output_type": "stream",
     "text": [
      "Buenas tardes,\n",
      "Bienvenido al servicio de pedido online,\n",
      "el precio de nuestra pizzas es de 8,95 para la familiar o de 9,90 para la mediana.\n",
      "¿Cuántas pizzas familiares desea? 2\n",
      "\n",
      "Estupendo, ¿cuántas pizzas medianas desea? 3\n"
     ]
    },
    {
     "name": "stdout",
     "output_type": "stream",
     "text": [
      "\n",
      "Estupendo, se están preparando  2  pizzas familiares y  3  pizzas medianas.\n"
     ]
    },
    {
     "name": "stdin",
     "output_type": "stream",
     "text": [
      "Digame su dirección:  dsajdskdslja\n"
     ]
    },
    {
     "name": "stdout",
     "output_type": "stream",
     "text": [
      "\n",
      "Le mandaremos las 5 pizzas a la dirección: dsajdskdslja.\n",
      "Serán 47,6€.\n",
      "Muchas gracias por su pedido.\n"
     ]
    }
   ],
   "source": [
    "pizz_familiar = int(input(\"Buenas tardes,\\nBienvenido al servicio de pedido online,\\nel precio de nuestra pizzas es de 8,95 para la familiar o de 9,90 para la mediana.\\n¿Cuántas pizzas familiares desea?\"))\n",
    "pizz_mediana = int(input(\"\\nEstupendo, ¿cuántas pizzas medianas desea?\"))\n",
    "print(\"\\nEstupendo, se están preparando \",pizz_familiar,\" pizzas familiares y \",pizz_mediana,\" pizzas medianas.\")\n",
    "direcc = input(\"Digame su dirección: \")\n",
    "total_pizz = pizz_familiar + pizz_mediana\n",
    "total_dinero = round(8.95*pizz_familiar + 9.90*pizz_mediana,2)\n",
    "total_dinero = str(total_dinero).replace(\".\",\",\")\n",
    "print(\"\\nLe mandaremos las \",total_pizz,\" pizzas a la dirección: \",direcc,\".\\nSerán \",total_dinero,\"€.\\nMuchas gracias por su pedido.\",sep=\"\")\n"
   ]
  },
  {
   "cell_type": "markdown",
   "metadata": {
    "id": "f0oqoGDGNPxt"
   },
   "source": [
    "![ejercicio.png](./img/ejercicio.png)\n",
    "## Parte II\n",
    "\n",
    "Crea un programa que realice las siguientes acciones:\n",
    "\n",
    "1. Solicite al usuario que introduzca 3 números enteros separados por comas (por ejemplo: 1,2,3).\n",
    "2. Convierta esa entrada en una lista de números enteros.\n",
    "3. Utilizando funciones built-in, determine el número máximo, el número mínimo y la suma total de los números introducidos.\n",
    "4. Determine la verdad o falsedad de la siguiente afirmación: \"El número máximo menos el número mínimo es igual a la suma total dividida por 5\".\n",
    "5. Muestre los resultados utilizando print."
   ]
  },
  {
   "cell_type": "code",
   "execution_count": 59,
   "metadata": {
    "id": "rAlpWiQ9NPxt"
   },
   "outputs": [
    {
     "name": "stdin",
     "output_type": "stream",
     "text": [
      "Por favor, introduzca 3 números enteros separados por comas (como por ejemplo: 1,2,3):  1,2,2\n"
     ]
    },
    {
     "name": "stdout",
     "output_type": "stream",
     "text": [
      "\n",
      "El número máximo marcado por el usuario es:  2 \n",
      "El número mínimo marcado por el usuario es:  1 \n",
      "La suma de los números marcados por el usuario es:  5\n",
      "\n",
      "¿Es correcto que el número máximo menos el número mínimo es igual a la suma total dividida por 5?\n",
      "La respuesta es:  True\n"
     ]
    }
   ],
   "source": [
    "entrada = input(\"Por favor, introduzca 3 números enteros separados por comas (como por ejemplo: 1,2,3): \")\n",
    "\n",
    "lista = entrada.split(\",\") #Separar la lista por \",\"\n",
    "lista = int(lista[0]), int(lista[1]), int(lista[2]) #Convertir la lista a int\n",
    "numero_max = max(lista)\n",
    "numero_min = min(lista)\n",
    "suma = sum(lista)\n",
    "resta = numero_max - numero_min\n",
    "division = suma/5\n",
    "\n",
    "print(\"\\nEl número máximo marcado por el usuario es: \",numero_max,\"\\nEl número mínimo marcado por el usuario es: \",numero_min,\"\\nLa suma de los números marcados por el usuario es: \",suma)\n",
    "print(\"\\n¿Es correcto que el número máximo menos el número mínimo es igual a la suma total dividida por 5?\\nLa respuesta es: \",resta == division)"
   ]
  },
  {
   "cell_type": "code",
   "execution_count": null,
   "metadata": {},
   "outputs": [],
   "source": []
  }
 ],
 "metadata": {
  "colab": {
   "provenance": []
  },
  "kernelspec": {
   "display_name": "Python 3 (ipykernel)",
   "language": "python",
   "name": "python3"
  },
  "language_info": {
   "codemirror_mode": {
    "name": "ipython",
    "version": 3
   },
   "file_extension": ".py",
   "mimetype": "text/x-python",
   "name": "python",
   "nbconvert_exporter": "python",
   "pygments_lexer": "ipython3",
   "version": "3.10.11"
  }
 },
 "nbformat": 4,
 "nbformat_minor": 4
}
