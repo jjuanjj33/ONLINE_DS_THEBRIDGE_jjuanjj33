{
 "cells": [
  {
   "cell_type": "markdown",
   "metadata": {
    "id": "k0yzjQGrQOyI"
   },
   "source": [
    "![TheBridge_Python_v0.png](attachment:TheBridge_Python_v0.png)"
   ]
  },
  {
   "cell_type": "markdown",
   "metadata": {
    "id": "rkQMU_OtQOyR"
   },
   "source": [
    "##  Colecciones Python: Tuplas\n"
   ]
  },
  {
   "cell_type": "markdown",
   "metadata": {
    "id": "h9prGADyQOyT"
   },
   "source": [
    "### Contenidos\n"
   ]
  },
  {
   "cell_type": "markdown",
   "metadata": {
    "id": "SnHgIGbnQOyT"
   },
   "source": [
    "* [Introducción](#Introducción)\n",
    "\n",
    "* [Listas y tuplas](#Listas-y-tuplas)\n",
    "\n"
   ]
  },
  {
   "cell_type": "markdown",
   "metadata": {
    "id": "7hsv-LvwQOyU"
   },
   "source": [
    "### Introducción\n",
    "[al indice](#Contenidos)  \n",
    "\n",
    "Muy similares a las listas. Si en Notebooks anteriores definíamos a las listas como ordenadas y mutables, las tuplas son ordenadas e inmutables.\n",
    "\n",
    "* **Inmutables**: una vez creada la tupla con sus elementos iniciales, no se puede modificar\n",
    "* **Ordenadas**: podemos acceder a sus elementos a través del indice y reordenar la tupla según queramos\n",
    "\n",
    "Las tuplas se suelen usar para pequeñas colecciones de datos que no van a cambiar a lo largo del programa, como es el caso de las constantes.\n",
    "\n",
    "Si las listas se construían mediante corchetes `[]`, las tuplas lo hacen con los paréntesis `()`"
   ]
  },
  {
   "cell_type": "code",
   "execution_count": 1,
   "metadata": {
    "id": "LG3dNFV8QOyV"
   },
   "outputs": [
    {
     "name": "stdout",
     "output_type": "stream",
     "text": [
      "(3, 'Texto')\n",
      "<class 'tuple'>\n"
     ]
    }
   ],
   "source": [
    "tupla_ejemplo = (3, \"Texto\")\n",
    "print (tupla_ejemplo)\n",
    "print(type(tupla_ejemplo))"
   ]
  },
  {
   "cell_type": "code",
   "execution_count": 4,
   "metadata": {},
   "outputs": [
    {
     "name": "stdout",
     "output_type": "stream",
     "text": [
      "El primer elemento es 3\n",
      "El segundo el elemnto es Texto\n"
     ]
    }
   ],
   "source": [
    "print(\"El primer elemento es\", tupla_ejemplo[0])\n",
    "print(\"El segundo el elemnto es\", tupla_ejemplo[1])"
   ]
  },
  {
   "cell_type": "markdown",
   "metadata": {
    "id": "_jxchqMxQOyW"
   },
   "source": [
    "Los paréntesis ya se usan para reordenar operaciones `5 * (3 + 4)`, por lo que hay que añadir una coma cuando definamos una tupla con un único elemento, sino Python lo interpretará como un número."
   ]
  },
  {
   "cell_type": "code",
   "execution_count": 7,
   "metadata": {
    "id": "cJNKoM-pQOyW"
   },
   "outputs": [
    {
     "name": "stdout",
     "output_type": "stream",
     "text": [
      "<class 'int'> 24\n",
      "<class 'tuple'> (24,)\n"
     ]
    }
   ],
   "source": [
    "mala_tupla = (24)\n",
    "print(type(mala_tupla), mala_tupla)\n",
    "buena_tupla = (24,)\n",
    "print(type(buena_tupla), buena_tupla)"
   ]
  },
  {
   "cell_type": "code",
   "execution_count": 8,
   "metadata": {
    "id": "MKlqZITDQOyX"
   },
   "outputs": [
    {
     "name": "stdout",
     "output_type": "stream",
     "text": [
      "(1, 2, 3, ('A', 'B', 'C'))\n",
      "4\n"
     ]
    }
   ],
   "source": [
    "#Anidar tuplas\n",
    "tupla_anid = (1, 2, 3, (\"A\", \"B\", \"C\"))\n",
    "print(tupla_anid)\n",
    "print(len(tupla_anid))"
   ]
  },
  {
   "cell_type": "code",
   "execution_count": 9,
   "metadata": {},
   "outputs": [
    {
     "name": "stdout",
     "output_type": "stream",
     "text": [
      "3\n",
      "B\n"
     ]
    }
   ],
   "source": [
    "print(tupla_anid[2])\n",
    "print(tupla_anid[3][1])"
   ]
  },
  {
   "cell_type": "code",
   "execution_count": 11,
   "metadata": {
    "jp-MarkdownHeadingCollapsed": true,
    "scrolled": true
   },
   "outputs": [
    {
     "name": "stdout",
     "output_type": "stream",
     "text": [
      "1\n",
      "2\n",
      "3\n",
      "('A', 'B', 'C')\n"
     ]
    }
   ],
   "source": [
    "# Son iterables\n",
    "for i in tupla_anid:\n",
    "    print(i)"
   ]
  },
  {
   "cell_type": "code",
   "execution_count": 12,
   "metadata": {},
   "outputs": [
    {
     "name": "stdout",
     "output_type": "stream",
     "text": [
      "(3, ('A', 'B', 'C'))\n"
     ]
    }
   ],
   "source": [
    "#Slicing\n",
    "tupla_bis = tupla_anid[2:]\n",
    "print(tupla_bis)"
   ]
  },
  {
   "cell_type": "markdown",
   "metadata": {
    "id": "kLEP6wQLQOyX"
   },
   "source": [
    "<table align=\"left\">\n",
    " <tr>\n",
    "     <td style=\"text-align:left\">\n",
    "         <h3>ERRORES tuplas</h3>\n",
    "         \n",
    " </td></tr>\n",
    "</table>"
   ]
  },
  {
   "cell_type": "markdown",
   "metadata": {
    "id": "qxVXdebpQOyY"
   },
   "source": [
    "Cuidado que las tuplas son inmutables, y una vez creadas no las podrás modificar después"
   ]
  },
  {
   "cell_type": "code",
   "execution_count": 13,
   "metadata": {
    "id": "vfTme45XQOyY"
   },
   "outputs": [
    {
     "ename": "TypeError",
     "evalue": "'tuple' object does not support item assignment",
     "output_type": "error",
     "traceback": [
      "\u001b[1;31m---------------------------------------------------------------------------\u001b[0m",
      "\u001b[1;31mTypeError\u001b[0m                                 Traceback (most recent call last)",
      "Cell \u001b[1;32mIn[13], line 2\u001b[0m\n\u001b[0;32m      1\u001b[0m tupla_error \u001b[38;5;241m=\u001b[39m (\u001b[38;5;241m1\u001b[39m, \u001b[38;5;241m2\u001b[39m, \u001b[38;5;241m3\u001b[39m, \u001b[38;5;241m4\u001b[39m, \u001b[38;5;241m5\u001b[39m)\n\u001b[1;32m----> 2\u001b[0m \u001b[43mtupla_error\u001b[49m\u001b[43m[\u001b[49m\u001b[38;5;241;43m3\u001b[39;49m\u001b[43m]\u001b[49m \u001b[38;5;241m=\u001b[39m \u001b[38;5;241m23\u001b[39m\n",
      "\u001b[1;31mTypeError\u001b[0m: 'tuple' object does not support item assignment"
     ]
    }
   ],
   "source": [
    "tupla_error = (1, 2, 3, 4, 5)\n",
    "tupla_error[3] = 23 # no existe metodo append() o metodo pop() porque tampoco podemos añadir o retirar elementos."
   ]
  },
  {
   "cell_type": "code",
   "execution_count": 16,
   "metadata": {
    "id": "O65crB1yQOyY"
   },
   "outputs": [
    {
     "name": "stdout",
     "output_type": "stream",
     "text": [
      "(1, 2, 3, 4, 5, 6)\n",
      "(1, 2, 3, 4, 5, 6)\n",
      "(1, 2, 3, 4, 5, 6)\n"
     ]
    }
   ],
   "source": [
    "# Si queremos añadir elementos, podemos meterlos en otra tupla y sumarlas para que se concatenen\n",
    "tupla1 = (1, 2, 3)\n",
    "tupla2 = (4, 5, 6)\n",
    "\n",
    "print(tupla1 + tupla2)\n",
    "tupla3 = tupla1 + tupla2\n",
    "tupla1 = tupla1 + tupla2 #Reasignación de la tupla1. NO estamos modificando, estamos redefiniendo la tupla.\n",
    "print (tupla3)\n",
    "print (tupla1)"
   ]
  },
  {
   "cell_type": "markdown",
   "metadata": {
    "id": "vA0D62trQOyc"
   },
   "source": [
    "### Listas y tuplas\n",
    "[al indice](#Contenidos)  \n",
    "\n",
    "Podemos combinar listas y tuplas que no tendremos ningún problema, siempre y cuando respetemos las propiedades de cada tipo de dato."
   ]
  },
  {
   "cell_type": "code",
   "execution_count": 18,
   "metadata": {
    "id": "RQxUqACtQOyd"
   },
   "outputs": [
    {
     "name": "stdout",
     "output_type": "stream",
     "text": [
      "['fresas', ('naranjas', 'limones'), 'kiwis'] <class 'list'>\n",
      "('fresas', ['naranjas', 'limones'], 'kiwis') <class 'tuple'>\n"
     ]
    }
   ],
   "source": [
    "lista_ejemplo = [\"fresas\", (\"naranjas\", \"limones\"),\"kiwis\"]\n",
    "tupla_lista = (\"fresas\", [\"naranjas\", \"limones\"], \"kiwis\")\n",
    "print(lista_ejemplo, type(lista_ejemplo))\n",
    "print(tupla_lista, type(tupla_lista))"
   ]
  },
  {
   "cell_type": "code",
   "execution_count": null,
   "metadata": {
    "id": "hUSTI613QOyd"
   },
   "outputs": [],
   "source": []
  }
 ],
 "metadata": {
  "colab": {
   "provenance": []
  },
  "kernelspec": {
   "display_name": "Python 3 (ipykernel)",
   "language": "python",
   "name": "python3"
  },
  "language_info": {
   "codemirror_mode": {
    "name": "ipython",
    "version": 3
   },
   "file_extension": ".py",
   "mimetype": "text/x-python",
   "name": "python",
   "nbconvert_exporter": "python",
   "pygments_lexer": "ipython3",
   "version": "3.10.11"
  }
 },
 "nbformat": 4,
 "nbformat_minor": 4
}
