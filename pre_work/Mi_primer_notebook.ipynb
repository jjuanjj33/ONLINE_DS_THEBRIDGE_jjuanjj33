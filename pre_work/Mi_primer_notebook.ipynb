{
 "cells": [
  {
   "cell_type": "markdown",
   "id": "c39ac2b8-ddf9-4bd1-b509-9da445943777",
   "metadata": {},
   "source": [
    "# Mis primeros pasos con Markdown...\n",
    "\n",
    "... son muy buenos"
   ]
  },
  {
   "cell_type": "code",
   "execution_count": null,
   "id": "69a93c23-4034-481b-bfa6-bdd3e533cc13",
   "metadata": {},
   "outputs": [],
   "source": []
  },
  {
   "cell_type": "markdown",
   "id": "3e73533b-cb29-43b9-af3d-3a0f785a9c77",
   "metadata": {},
   "source": []
  }
 ],
 "metadata": {
  "kernelspec": {
   "display_name": "Python 3 (ipykernel)",
   "language": "python",
   "name": "python3"
  },
  "language_info": {
   "codemirror_mode": {
    "name": "ipython",
    "version": 3
   },
   "file_extension": ".py",
   "mimetype": "text/x-python",
   "name": "python",
   "nbconvert_exporter": "python",
   "pygments_lexer": "ipython3",
   "version": "3.10.11"
  }
 },
 "nbformat": 4,
 "nbformat_minor": 5
}
