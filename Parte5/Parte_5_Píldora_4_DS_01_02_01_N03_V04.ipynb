{
  "cells": [
    {
      "cell_type": "markdown",
      "metadata": {
        "id": "aAe4-hCrUumt"
      },
      "source": [
        "![TheBridge_Python_v0.png](attachment:TheBridge_Python_v0.png)"
      ]
    },
    {
      "cell_type": "markdown",
      "metadata": {
        "id": "126Ow18lUum2"
      },
      "source": [
        "## Colecciones Python: Diccionarios\n"
      ]
    },
    {
      "cell_type": "markdown",
      "metadata": {
        "id": "YgDBts9_Uum9"
      },
      "source": [
        "### Contenidos\n"
      ]
    },
    {
      "cell_type": "markdown",
      "metadata": {
        "id": "k-V_rcjZUum-"
      },
      "source": [
        "* [Introducción](#Introducción)\n",
        "\n",
        "* [Acceso, modificación, añadir, eliminar](#Acceso,-modificación,-añadir,-eliminar)\n",
        "\n",
        "* [Iterar](#Iterar)\n",
        "\n"
      ]
    },
    {
      "cell_type": "markdown",
      "metadata": {
        "id": "edfKP_1AUum_"
      },
      "source": [
        "### Introducción\n",
        "[al indice](#Contenidos)  \n",
        "\n",
        "En este tipo de colecciones no solo podemos agrupar datos, sino que tenemos la posibilidad de establecer una relación entre los mismos, con la forma **clave: valor**.\n",
        "\n",
        "La sintaxis  es mediante llaves `{}`\n",
        "\n",
        "> nombre_diccionario = {clave1: valor1, clave2: valor2, clave3: valor3}\n",
        "\n",
        "Si veíamos que las listas son elementos mutables y y ordenadas, y las tuplas inmutables y ordenadas, los diccionarios son:\n",
        "\n",
        "* **Mutables**: podemos modificar sus elementos\n",
        "* **Desordenado**: la potencia de acceso de los diccionarios es su formato clave-valor, no su orden. Aun así, el dicionario conserva el orden de los elemento según los vamos insertando.\n",
        "\n",
        "Vamos a declarar un diccionario en el que definiremos elementos de un coche"
      ]
    },
    {
      "cell_type": "code",
      "execution_count": null,
      "metadata": {
        "id": "FDsXJQXCUunB"
      },
      "outputs": [],
      "source": []
    },
    {
      "cell_type": "markdown",
      "metadata": {
        "id": "1TPL-gvPUunC"
      },
      "source": [
        "Se puede almacenar todo tipo de datos: numero, cadena, booleano, listas, tuplas, diccionarios...\n",
        "\n",
        "Cuando declaremos el diccionario, lo podemos hacer en una sola linea `coche = {\"color\"=\"Gris\", \"marca\"...}`, aunque se recomienda por sencillez a la hora de leer el código, realizar esta acción en varias líneas. Si escribimos el primer elemento y presionamos enter, Jupyter introduce automáticamente la tabulación."
      ]
    },
    {
      "cell_type": "markdown",
      "metadata": {
        "id": "vm4bV_IyUunE"
      },
      "source": [
        "### Acceso, modificación, añadir, eliminar\n",
        "[al indice](#Contenidos)  \n",
        "\n"
      ]
    },
    {
      "cell_type": "code",
      "execution_count": null,
      "metadata": {
        "id": "vN7vks7kUunE"
      },
      "outputs": [],
      "source": []
    },
    {
      "cell_type": "markdown",
      "metadata": {
        "id": "Z7C7xjxNUunF"
      },
      "source": [
        "Para más detalle de los métodos de los diccionario puedes [consultar la documentación](https://www.w3schools.com/python/python_ref_dictionary.asp)"
      ]
    },
    {
      "cell_type": "code",
      "execution_count": null,
      "metadata": {
        "id": "OqAIk6FkUunF"
      },
      "outputs": [],
      "source": [
        "# Podemos empezar tambien mediante un diccionario vacío"
      ]
    },
    {
      "cell_type": "markdown",
      "metadata": {
        "id": "aG6_zH49UunG"
      },
      "source": [
        "<table align=\"left\">\n",
        " <tr>\n",
        "     <td style=\"text-align:left\">\n",
        "         <h3>ERRORES en diccionarios</h3>\n",
        "         \n",
        " </td></tr>\n",
        "</table>"
      ]
    },
    {
      "cell_type": "markdown",
      "metadata": {
        "id": "yOyBZhk1UunH"
      },
      "source": [
        "Si hay una clave que no existe en el diccionario, saltará un error.\n",
        "\n",
        "En este caso, el error es bastante intuitivo: `KeyError`, no encuentra la clave"
      ]
    },
    {
      "cell_type": "code",
      "execution_count": null,
      "metadata": {
        "id": "sWVh7sIjUunH"
      },
      "outputs": [],
      "source": []
    },
    {
      "cell_type": "markdown",
      "metadata": {
        "id": "rD1UQV2OUunI"
      },
      "source": [
        "**¿Cómo solventar esto?** Sirmpre tienes la opción de usar el bloque `try/except`, pero en este caso, los diccionarios tienen una solución más elegante: `mi_diccionario.get(clave, valor si no existe)`"
      ]
    },
    {
      "cell_type": "code",
      "execution_count": null,
      "metadata": {
        "id": "7XLCpdJxUunI"
      },
      "outputs": [],
      "source": []
    },
    {
      "cell_type": "markdown",
      "metadata": {
        "id": "NmvgNgkcUunI"
      },
      "source": [
        "### Iterar\n",
        "[al indice](#Contenidos)  \n",
        "\n",
        "Que el diccionario no esté ordenado, no quiere decir que no podamos iterar sus elementos, ya que también es un **interable**, como los son las listas o las tuplas."
      ]
    },
    {
      "cell_type": "code",
      "execution_count": null,
      "metadata": {
        "id": "vjAEstqyUunI"
      },
      "outputs": [],
      "source": []
    },
    {
      "cell_type": "code",
      "execution_count": null,
      "metadata": {
        "id": "qknBHJeUUunI"
      },
      "outputs": [],
      "source": []
    }
  ],
  "metadata": {
    "kernelspec": {
      "display_name": "Python 3 (ipykernel)",
      "language": "python",
      "name": "python3"
    },
    "language_info": {
      "codemirror_mode": {
        "name": "ipython",
        "version": 3
      },
      "file_extension": ".py",
      "mimetype": "text/x-python",
      "name": "python",
      "nbconvert_exporter": "python",
      "pygments_lexer": "ipython3",
      "version": "3.9.7"
    },
    "colab": {
      "provenance": []
    }
  },
  "nbformat": 4,
  "nbformat_minor": 0
}