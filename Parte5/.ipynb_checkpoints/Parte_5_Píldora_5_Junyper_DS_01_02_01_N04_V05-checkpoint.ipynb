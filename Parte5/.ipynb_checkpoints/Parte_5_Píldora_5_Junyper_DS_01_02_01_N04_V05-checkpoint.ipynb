{
 "cells": [
  {
   "cell_type": "markdown",
   "metadata": {
    "id": "xkYL7l4IxjRc"
   },
   "source": [
    "![TheBridge_Python_v0.png](attachment:TheBridge_Python_v0.png)"
   ]
  },
  {
   "cell_type": "markdown",
   "metadata": {
    "id": "2Vw4dlsBxjRp"
   },
   "source": [
    "## Colecciones Python: Sets\n"
   ]
  },
  {
   "cell_type": "markdown",
   "metadata": {
    "id": "L9GyZPInxjRq"
   },
   "source": [
    "### Contenidos\n"
   ]
  },
  {
   "cell_type": "markdown",
   "metadata": {
    "id": "2Zi0eMWixjRr"
   },
   "source": [
    "* [Introducción](#Introducción)\n",
    "\n"
   ]
  },
  {
   "cell_type": "markdown",
   "metadata": {
    "id": "o27_WF6rxjRr"
   },
   "source": [
    "### Introducción\n",
    "[al indice](#Contenidos)  \n",
    "\n",
    "Otra colección *bulit-in* de Python, compuesta por un conjunto de *valores*. Muy parecidos a las listas. Tienen las siguientes características:\n",
    "* **Mutables**: podemos modificarlos una vez se hayan creado\n",
    "* **No ordenado**\n",
    "* **Elementos unicos**: se compone de un conjunto de valores únicas\n",
    "\n",
    "**¿Cuándo usar sets?** Cuando estemos buscando unicidad en nuestros datos y no nos importe el orden.\n",
    "\n",
    "Te dejo por aquí [la documentación](https://docs.python.org/2/library/sets.html) para realizar consultas sobre los sets\n",
    "\n",
    "Si sintaxis es:\n",
    ">```Python\n",
    "> mi_set = {elemento1, elemento2, elemento3}\n",
    ">```\n",
    "\n",
    "Tiene una sintaxis muy parecida a la de las listas, pero en este caso no se utilizan los `{}`."
   ]
  },
  {
   "cell_type": "code",
   "execution_count": 7,
   "metadata": {
    "id": "0LF3bfmkxjRs"
   },
   "outputs": [
    {
     "name": "stdout",
     "output_type": "stream",
     "text": [
      "4\n",
      "{'azul', 'rojo', 'verde', 'naranja'}\n",
      "<class 'set'>\n"
     ]
    }
   ],
   "source": [
    "colores = {\"azul\",\"rojo\", \"verde\",\"naranja\" ,\"azul\", \"verde\"}\n",
    "print(len(colores))\n",
    "print(colores)\n",
    "print(type(colores))"
   ]
  },
  {
   "cell_type": "markdown",
   "metadata": {
    "id": "lQtctwa1xjRt"
   },
   "source": [
    "Los elementos del set son unicos, por lo que si en la declaración, o posteriormente añadiendo elementos hubiese algún duplicado, el set lo ignoraría. Es más, cuando aplicas el `len`, muestra la cantidad de valores únicos que tiene."
   ]
  },
  {
   "cell_type": "code",
   "execution_count": 10,
   "metadata": {
    "id": "ximsijPmxjRu"
   },
   "outputs": [
    {
     "name": "stdout",
     "output_type": "stream",
     "text": [
      "{'verde', 'rojo', 'celeste', 'burdeos', 'azul', 'magenta'}\n",
      "{'verde', 'rojo', 'naranja', 'celeste', 'burdeos', 'azul', 'magenta'}\n",
      "{'verde', 'rojo', 'celeste', 'burdeos', 'azul', 'magenta'}\n",
      "verde\n",
      "rojo\n",
      "celeste\n",
      "burdeos\n",
      "azul\n",
      "magenta\n"
     ]
    }
   ],
   "source": [
    "# Añadir valores usando el metodo add().\n",
    "colores.add(\"magenta\")\n",
    "print(colores)\n",
    "\n",
    "# Si queremos añadir una lista de colores con el metodo update()\n",
    "colores.update([\"celeste\", \"burdeos\", \"naranja\"]) # Recordar que tiene que ser una lista\n",
    "print(colores)\n",
    "\n",
    "# Para quitar los elementos de un set con el metodo remove()\n",
    "colores.remove(\"naranja\")\n",
    "print(colores)\n",
    "\n",
    "# Son iterables\n",
    "for color in colores:\n",
    "    print(color)"
   ]
  },
  {
   "cell_type": "markdown",
   "metadata": {
    "id": "nl7ZPmxsxjRu"
   },
   "source": [
    "Para comprobar si dos sets tienen los mismos elementos"
   ]
  },
  {
   "cell_type": "code",
   "execution_count": 11,
   "metadata": {
    "id": "dQ6jdTz8xjRv"
   },
   "outputs": [
    {
     "data": {
      "text/plain": [
       "True"
      ]
     },
     "execution_count": 11,
     "metadata": {},
     "output_type": "execute_result"
    }
   ],
   "source": [
    "set1 = {1,2,4,4,2,1,2,1}\n",
    "set2 = {2,1,4}\n",
    "\n",
    "set1 == set2"
   ]
  },
  {
   "cell_type": "code",
   "execution_count": 16,
   "metadata": {},
   "outputs": [
    {
     "name": "stdout",
     "output_type": "stream",
     "text": [
      "[32, 100, 10, 45, 15, 23]\n"
     ]
    }
   ],
   "source": [
    "# Ejemplo para quitar duplicados de las listas.\n",
    "lista_con = [100, 10, 23, 23, 15, 32, 45, 10, 100, 23]\n",
    "#print(set(lista_con))\n",
    "#print(list(set(lista_con)))\n",
    "lista_con = list(set(lista_con))\n",
    "print(lista_con)"
   ]
  },
  {
   "cell_type": "code",
   "execution_count": null,
   "metadata": {},
   "outputs": [],
   "source": []
  }
 ],
 "metadata": {
  "colab": {
   "provenance": []
  },
  "kernelspec": {
   "display_name": "Python 3 (ipykernel)",
   "language": "python",
   "name": "python3"
  },
  "language_info": {
   "codemirror_mode": {
    "name": "ipython",
    "version": 3
   },
   "file_extension": ".py",
   "mimetype": "text/x-python",
   "name": "python",
   "nbconvert_exporter": "python",
   "pygments_lexer": "ipython3",
   "version": "3.10.11"
  }
 },
 "nbformat": 4,
 "nbformat_minor": 4
}
