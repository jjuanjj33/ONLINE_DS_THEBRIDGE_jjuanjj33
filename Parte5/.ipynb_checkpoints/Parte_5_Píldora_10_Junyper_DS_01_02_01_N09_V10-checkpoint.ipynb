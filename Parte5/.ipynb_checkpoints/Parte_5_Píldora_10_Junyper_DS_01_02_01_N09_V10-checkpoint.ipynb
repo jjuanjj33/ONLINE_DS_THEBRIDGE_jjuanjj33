{
  "cells": [
    {
      "cell_type": "markdown",
      "metadata": {
        "id": "Pl__uO_W_lkQ"
      },
      "source": [
        "![TheBridge_Python_v0.png](attachment:TheBridge_Python_v0.png)"
      ]
    },
    {
      "cell_type": "markdown",
      "metadata": {
        "id": "lbL6E8Yz_lkW"
      },
      "source": [
        "##  Argumentos clave-valor"
      ]
    },
    {
      "cell_type": "markdown",
      "metadata": {
        "id": "3Z8fa0F9_lkX"
      },
      "source": [
        "### Contenidos"
      ]
    },
    {
      "cell_type": "markdown",
      "metadata": {
        "id": "OwuYr_iF_lkX"
      },
      "source": [
        "* [Combinar `*args` con `**kwargs`](#Combinar-`*args`-con-`**kwargs`)\n",
        "* [Argumentos keyword](#Argumentos-keyword)\n"
      ]
    },
    {
      "cell_type": "markdown",
      "metadata": {
        "id": "XoNkiOn-_lkY"
      },
      "source": [
        "\n",
        "Para terminar con las diferentes posibilidades que ofrecen los argumentos de las funciones, vamos a tratar los argumentos clave-valor.  \n",
        "\n",
        "Es decir, tenemos también la opción de introducir un diccionario como argumentos, de esta forma, aunque el numero de argumentos sea variable, tendremos un inidicador, la clave, y el valor de cada clave.\n",
        "\n",
        "Se implementa con `**`"
      ]
    },
    {
      "cell_type": "code",
      "execution_count": null,
      "metadata": {
        "id": "J2AYXacC_lkZ"
      },
      "outputs": [],
      "source": []
    },
    {
      "cell_type": "markdown",
      "metadata": {
        "id": "2oaT_MOx_lkb"
      },
      "source": [
        "### Combinar `*args` con `**kwargs`\n",
        "[al indice](#Contenidos)  \n",
        "No hay ningun problema en tener un numero variable de argumentos y también argumentos clave-valor, todo ello en la misma función."
      ]
    },
    {
      "cell_type": "code",
      "execution_count": null,
      "metadata": {
        "id": "591YeDtD_lkc"
      },
      "outputs": [],
      "source": []
    },
    {
      "cell_type": "markdown",
      "metadata": {
        "id": "dMoM4LAW_lkd"
      },
      "source": [
        "### Argumentos keyword\n",
        "[al indice](#Contenidos)  \n",
        "Existe otro tipo de argumentos que son los *keyword*. Se caracterizan porque llevan un valor por defecto, y por tanto, si no usamos dicho argumento en la llamada, dentro de la función tomará el valor que hayamos dejado por defecto.\n",
        "\n",
        "Ten en cuenta que estos argumentos se colocan **al final**"
      ]
    },
    {
      "cell_type": "code",
      "execution_count": null,
      "metadata": {
        "id": "RynhWs56_lkd"
      },
      "outputs": [],
      "source": []
    },
    {
      "cell_type": "markdown",
      "metadata": {
        "id": "u2LDlaQg_lkd"
      },
      "source": [
        "<table align=\"left\">\n",
        " <tr>\n",
        "     <td style=\"text-align:left\">\n",
        "         <h3>ERRORES con argumentos keyword</h3>\n",
        "         \n",
        " </td></tr>\n",
        "</table>"
      ]
    },
    {
      "cell_type": "code",
      "execution_count": null,
      "metadata": {
        "id": "I2DCBnp9_lke"
      },
      "outputs": [],
      "source": []
    }
  ],
  "metadata": {
    "kernelspec": {
      "display_name": "Python 3 (ipykernel)",
      "language": "python",
      "name": "python3"
    },
    "language_info": {
      "codemirror_mode": {
        "name": "ipython",
        "version": 3
      },
      "file_extension": ".py",
      "mimetype": "text/x-python",
      "name": "python",
      "nbconvert_exporter": "python",
      "pygments_lexer": "ipython3",
      "version": "3.9.7"
    },
    "colab": {
      "provenance": []
    }
  },
  "nbformat": 4,
  "nbformat_minor": 0
}