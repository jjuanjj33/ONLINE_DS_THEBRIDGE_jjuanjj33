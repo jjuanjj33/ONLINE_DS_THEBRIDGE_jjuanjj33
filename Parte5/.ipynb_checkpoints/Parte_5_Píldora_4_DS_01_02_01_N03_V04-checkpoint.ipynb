{
 "cells": [
  {
   "cell_type": "markdown",
   "metadata": {
    "id": "aAe4-hCrUumt"
   },
   "source": [
    "![TheBridge_Python_v0.png](attachment:TheBridge_Python_v0.png)"
   ]
  },
  {
   "cell_type": "markdown",
   "metadata": {
    "id": "126Ow18lUum2"
   },
   "source": [
    "## Colecciones Python: Diccionarios\n"
   ]
  },
  {
   "cell_type": "markdown",
   "metadata": {
    "id": "YgDBts9_Uum9"
   },
   "source": [
    "### Contenidos\n"
   ]
  },
  {
   "cell_type": "markdown",
   "metadata": {
    "id": "k-V_rcjZUum-"
   },
   "source": [
    "* [Introducción](#Introducción)\n",
    "\n",
    "* [Acceso, modificación, añadir, eliminar](#Acceso,-modificación,-añadir,-eliminar)\n",
    "\n",
    "* [Iterar](#Iterar)\n",
    "\n"
   ]
  },
  {
   "cell_type": "markdown",
   "metadata": {
    "id": "edfKP_1AUum_"
   },
   "source": [
    "### Introducción\n",
    "[al indice](#Contenidos)  \n",
    "\n",
    "En este tipo de colecciones no solo podemos agrupar datos, sino que tenemos la posibilidad de establecer una relación entre los mismos, con la forma **clave: valor**.\n",
    "\n",
    "La sintaxis  es mediante llaves `{}`\n",
    "\n",
    "> nombre_diccionario = {clave1: valor1, clave2: valor2, clave3: valor3}\n",
    "\n",
    "Si veíamos que las listas son elementos mutables y y ordenadas, y las tuplas inmutables y ordenadas, los diccionarios son:\n",
    "\n",
    "* **Mutables**: podemos modificar sus elementos\n",
    "* **Desordenado**: la potencia de acceso de los diccionarios es su formato clave-valor, no su orden. Aun así, el dicionario conserva el orden de los elemento según los vamos insertando.\n",
    "\n",
    "Vamos a declarar un diccionario en el que definiremos elementos de un coche"
   ]
  },
  {
   "cell_type": "code",
   "execution_count": 20,
   "metadata": {
    "id": "FDsXJQXCUunB"
   },
   "outputs": [
    {
     "data": {
      "text/plain": [
       "{'Color': 'Rojo',\n",
       " 'Marca': 'Tesla',\n",
       " 'Modelo': 'Cybertruck',\n",
       " 'Peso': 3500,\n",
       " 'Cambio automatico': True}"
      ]
     },
     "execution_count": 20,
     "metadata": {},
     "output_type": "execute_result"
    }
   ],
   "source": [
    "coche_dict = {\n",
    "    \"Color\" : \"Rojo\",\n",
    "    \"Marca\" : \"Tesla\",\n",
    "    \"Modelo\" : \"Cybertruck\",\n",
    "    \"Peso\" : 3500,\n",
    "    \"Cambio automatico\" : True\n",
    "}\n",
    "coche_dict"
   ]
  },
  {
   "cell_type": "markdown",
   "metadata": {
    "id": "1TPL-gvPUunC"
   },
   "source": [
    "Se puede almacenar todo tipo de datos: numero, cadena, booleano, listas, tuplas, diccionarios...\n",
    "\n",
    "Cuando declaremos el diccionario, lo podemos hacer en una sola linea `coche = {\"color\"=\"Gris\", \"marca\"...}`, aunque se recomienda por sencillez a la hora de leer el código, realizar esta acción en varias líneas. Si escribimos el primer elemento y presionamos enter, Jupyter introduce automáticamente la tabulación."
   ]
  },
  {
   "cell_type": "markdown",
   "metadata": {
    "id": "vm4bV_IyUunE"
   },
   "source": [
    "### Acceso, modificación, añadir, eliminar\n",
    "[al indice](#Contenidos)  \n",
    "\n"
   ]
  },
  {
   "cell_type": "code",
   "execution_count": 21,
   "metadata": {
    "id": "vN7vks7kUunE"
   },
   "outputs": [
    {
     "name": "stdout",
     "output_type": "stream",
     "text": [
      "Rojo\n",
      "3500\n",
      "{'Color': ['Rojo', 'Gris'], 'Marca': 'Tesla', 'Modelo': 'Cybertruck', 'Peso': 3500, 'Cambio automatico': True}\n",
      "6\n",
      "{'Color': ['Rojo', 'Gris'], 'Marca': 'Tesla', 'Modelo': 'Cybertruck', 'Peso': 3500, 'Cambio automatico': True}\n",
      "dict_keys(['Color', 'Marca', 'Modelo', 'Peso', 'Cambio automatico'])\n",
      "dict_values([['Rojo', 'Gris'], 'Tesla', 'Cybertruck', 3500, True])\n"
     ]
    }
   ],
   "source": [
    "# Acceso a los elementos del diccionario.\n",
    "print(coche_dict[\"Color\"])\n",
    "print(coche_dict[\"Peso\"])\n",
    "\n",
    "# Print(coche_dict[\"puertas\"]).\n",
    "coche_dict[\"Color\"] = [\"Rojo\", \"Gris\"]\n",
    "print(coche_dict)\n",
    "\n",
    "# En los diccionarios NO hay append() o insert().\n",
    "# Añadir elemento:\n",
    "coche_dict[\"puertas\"] = 6\n",
    "print(coche_dict[\"puertas\"])\n",
    "\n",
    "# Para eliminar un elemento, no existe un remove() o un pop().\n",
    "# Eliminar elemento con el metodo del().\n",
    "del coche_dict[\"puertas\"]\n",
    "print(coche_dict)\n",
    "\n",
    "# Conocer las claves del diccionario.\n",
    "# El metodo para conocer las claves es: keys().\n",
    "print(coche_dict.keys())\n",
    "\n",
    "# El metodo para conocer los valores es: values().\n",
    "print(coche_dict.values())\n"
   ]
  },
  {
   "cell_type": "markdown",
   "metadata": {
    "id": "Z7C7xjxNUunF"
   },
   "source": [
    "Para más detalle de los métodos de los diccionario puedes [consultar la documentación](https://www.w3schools.com/python/python_ref_dictionary.asp)"
   ]
  },
  {
   "cell_type": "code",
   "execution_count": 17,
   "metadata": {
    "id": "OqAIk6FkUunF"
   },
   "outputs": [
    {
     "name": "stdout",
     "output_type": "stream",
     "text": [
      "{'direccion': 'Montesa, 12', 'tamaño': 123}\n"
     ]
    }
   ],
   "source": [
    "# Podemos empezar tambien mediante un diccionario vacío\n",
    "tienda = {}\n",
    "tienda[\"direccion\"] = \"Montesa, 12\"\n",
    "tienda[\"tamaño\"] = 123\n",
    "print(tienda)"
   ]
  },
  {
   "cell_type": "markdown",
   "metadata": {
    "id": "aG6_zH49UunG"
   },
   "source": [
    "<table align=\"left\">\n",
    " <tr>\n",
    "     <td style=\"text-align:left\">\n",
    "         <h3>ERRORES en diccionarios</h3>\n",
    "         \n",
    " </td></tr>\n",
    "</table>"
   ]
  },
  {
   "cell_type": "markdown",
   "metadata": {
    "id": "yOyBZhk1UunH"
   },
   "source": [
    "Si hay una clave que no existe en el diccionario, saltará un error.\n",
    "\n",
    "En este caso, el error es bastante intuitivo: `KeyError`, no encuentra la clave"
   ]
  },
  {
   "cell_type": "code",
   "execution_count": 18,
   "metadata": {
    "id": "sWVh7sIjUunH"
   },
   "outputs": [
    {
     "ename": "KeyError",
     "evalue": "'puertas'",
     "output_type": "error",
     "traceback": [
      "\u001b[1;31m---------------------------------------------------------------------------\u001b[0m",
      "\u001b[1;31mKeyError\u001b[0m                                  Traceback (most recent call last)",
      "Cell \u001b[1;32mIn[18], line 1\u001b[0m\n\u001b[1;32m----> 1\u001b[0m \u001b[43mcoche_dict\u001b[49m\u001b[43m[\u001b[49m\u001b[38;5;124;43m\"\u001b[39;49m\u001b[38;5;124;43mpuertas\u001b[39;49m\u001b[38;5;124;43m\"\u001b[39;49m\u001b[43m]\u001b[49m\n",
      "\u001b[1;31mKeyError\u001b[0m: 'puertas'"
     ]
    }
   ],
   "source": [
    "coche_dict[\"puertas\"]"
   ]
  },
  {
   "cell_type": "markdown",
   "metadata": {
    "id": "rD1UQV2OUunI"
   },
   "source": [
    "**¿Cómo solventar esto?** Sirmpre tienes la opción de usar el bloque `try/except`, pero en este caso, los diccionarios tienen una solución más elegante: `mi_diccionario.get(clave, valor si no existe)`"
   ]
  },
  {
   "cell_type": "code",
   "execution_count": 24,
   "metadata": {
    "id": "7XLCpdJxUunI"
   },
   "outputs": [
    {
     "name": "stdout",
     "output_type": "stream",
     "text": [
      "4\n",
      "Tesla\n"
     ]
    }
   ],
   "source": [
    "numero_de_puertas = coche_dict.get(\"puertas\",4)# No sé si existe la clave \"puertas\", pero entonces quiero que me devuelva \"4\".\n",
    "print(numero_de_puertas)\n",
    "\n",
    "marca = coche_dict.get(\"Marca\",\"desconocida\")\n",
    "print(marca)"
   ]
  },
  {
   "cell_type": "markdown",
   "metadata": {
    "id": "NmvgNgkcUunI"
   },
   "source": [
    "### Iterar\n",
    "[al indice](#Contenidos)  \n",
    "\n",
    "Que el diccionario no esté ordenado, no quiere decir que no podamos iterar sus elementos, ya que también es un **interable**, como los son las listas o las tuplas."
   ]
  },
  {
   "cell_type": "code",
   "execution_count": 26,
   "metadata": {
    "id": "vjAEstqyUunI"
   },
   "outputs": [
    {
     "name": "stdout",
     "output_type": "stream",
     "text": [
      "Color\n",
      "['Rojo', 'Gris']\n",
      "Marca\n",
      "Tesla\n",
      "Modelo\n",
      "Cybertruck\n",
      "Peso\n",
      "3500\n",
      "Cambio automatico\n",
      "True\n"
     ]
    }
   ],
   "source": [
    "for i in coche_dict: # La iteración de i en este caso nos devuelve las claves.\n",
    "    print(i)\n",
    "    print(coche_dict[i]) # Entre el corchete se accede al valor de dicha clave. i = key, dict[key] = value\n",
    "    "
   ]
  },
  {
   "cell_type": "code",
   "execution_count": 27,
   "metadata": {
    "id": "qknBHJeUUunI"
   },
   "outputs": [
    {
     "name": "stdout",
     "output_type": "stream",
     "text": [
      "Color : ['Rojo', 'Gris']\n",
      "Marca : Tesla\n",
      "Modelo : Cybertruck\n",
      "Peso : 3500\n",
      "Cambio automatico : True\n"
     ]
    }
   ],
   "source": [
    "for i in coche_dict:\n",
    "    print(i,\":\",coche_dict[i])"
   ]
  },
  {
   "cell_type": "code",
   "execution_count": 32,
   "metadata": {},
   "outputs": [
    {
     "data": {
      "text/plain": [
       "dict_items([('Color', ['Rojo', 'Gris']), ('Marca', 'Tesla'), ('Modelo', 'Cybertruck'), ('Peso', 3500), ('Cambio automatico', True)])"
      ]
     },
     "execution_count": 32,
     "metadata": {},
     "output_type": "execute_result"
    }
   ],
   "source": [
    "# Forma más elegante de acceder a los elementos de un diccionario\n",
    "# Usando el metodo items().\n",
    "coche_dict.items()"
   ]
  },
  {
   "cell_type": "code",
   "execution_count": 31,
   "metadata": {},
   "outputs": [
    {
     "name": "stdout",
     "output_type": "stream",
     "text": [
      "Color : ['Rojo', 'Gris']\n",
      "Marca : Tesla\n",
      "Modelo : Cybertruck\n",
      "Peso : 3500\n",
      "Cambio automatico : True\n"
     ]
    }
   ],
   "source": [
    "for clave, valor in coche_dict.items():\n",
    "    print(clave,\":\",valor)"
   ]
  },
  {
   "cell_type": "code",
   "execution_count": null,
   "metadata": {},
   "outputs": [],
   "source": []
  }
 ],
 "metadata": {
  "colab": {
   "provenance": []
  },
  "kernelspec": {
   "display_name": "Python 3 (ipykernel)",
   "language": "python",
   "name": "python3"
  },
  "language_info": {
   "codemirror_mode": {
    "name": "ipython",
    "version": 3
   },
   "file_extension": ".py",
   "mimetype": "text/x-python",
   "name": "python",
   "nbconvert_exporter": "python",
   "pygments_lexer": "ipython3",
   "version": "3.10.11"
  }
 },
 "nbformat": 4,
 "nbformat_minor": 4
}
