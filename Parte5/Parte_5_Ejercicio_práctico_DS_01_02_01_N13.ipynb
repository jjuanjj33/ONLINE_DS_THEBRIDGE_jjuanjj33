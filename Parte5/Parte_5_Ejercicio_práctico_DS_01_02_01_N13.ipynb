{
 "cells": [
  {
   "cell_type": "markdown",
   "metadata": {
    "id": "9l3HMgm6RWxF"
   },
   "source": [
    "![TheBridge_logo_RGB_color.jpg](attachment:TheBridge_logo_RGB_color.jpg)"
   ]
  },
  {
   "cell_type": "markdown",
   "metadata": {
    "id": "RGg9iWpoRWxG"
   },
   "source": [
    "![ejercicios.png](attachment:ejercicios.png)"
   ]
  },
  {
   "cell_type": "markdown",
   "metadata": {
    "id": "AyOlWS2nRWxH"
   },
   "source": [
    "## PRACTICA OBLIGATORIA: COLECCIONES Y FUNCIONES"
   ]
  },
  {
   "cell_type": "markdown",
   "metadata": {
    "id": "6UOgb0KVRWxH"
   },
   "source": [
    "* La práctica obligatoria de esta unidad consiste varios ejercicios de programación libre a completar sobre Colecciones y Funciones. Descarga este notebook en tu ordenador y trabaja en local.  \n",
    "* Recuerda que debes subirla a tu repositorio personal antes de la sesión en vivo para que puntúe adecuadamente y puedas participar en dicha sesión.  \n",
    "* Recuerda también que no es necesario que esté perfecta, sólo es necesario que se vea el esfuerzo.\n",
    "* Esta práctica se resolverá en la sesión en vivo correspondiente y la solución se publicará en el repo del curso."
   ]
  },
  {
   "cell_type": "markdown",
   "metadata": {
    "id": "j3yu-tEjRWxH"
   },
   "source": [
    "### Contenidos"
   ]
  },
  {
   "cell_type": "markdown",
   "metadata": {
    "id": "kO-fLH39RWxH",
    "jp-MarkdownHeadingCollapsed": true
   },
   "source": [
    "## Ejercicio 1\n",
    "Eleva todos los elementos de la lista al cuadrado\n",
    "> ```ejer_2 = [1,2,3,4,5]```"
   ]
  },
  {
   "cell_type": "code",
   "execution_count": 4,
   "metadata": {
    "id": "ks5l3yi7RWxH"
   },
   "outputs": [
    {
     "name": "stdout",
     "output_type": "stream",
     "text": [
      "Nuestros elementos son: [1, 2, 3, 4, 5]\n",
      "El elemento 1 elevado al cuadrado es:  1\n",
      "El elemento 2 elevado al cuadrado es:  4\n",
      "El elemento 3 elevado al cuadrado es:  9\n",
      "El elemento 4 elevado al cuadrado es:  16\n",
      "El elemento 5 elevado al cuadrado es:  25\n"
     ]
    }
   ],
   "source": [
    "# Eleva todos los elementos de la lista al cuadrado\n",
    "ejer_2 = [1,2,3,4,5]\n",
    "print(\"Nuestros elementos son:\",ejer_2)\n",
    "for i in ejer_2:\n",
    "    j = i*i\n",
    "    print(\"El elemento\",i, \"elevado al cuadrado es: \",j)"
   ]
  },
  {
   "cell_type": "markdown",
   "metadata": {
    "id": "kI_Xr5oFRWxI",
    "jp-MarkdownHeadingCollapsed": true
   },
   "source": [
    "## Ejercicio 2\n",
    "Haz un programa que detecte todos los duplicados de un elemento en una lista:\n",
    "* Utiliza una variable duplicado para asignarle el valor del elemento del que queremos encontrar todos sus duplicados.\n",
    "* El programa debe devolver todos los índices de los elementos duplicados.\n",
    "* Aplícalo para encontrar los duplicados de \"un\", \"es\" y \"binario\" de:  \n",
    "\n",
    ">```ejer_3 = [\"Un\", \"árbol\", \"binario\", \"es\", \"una\", \"estructura\", \"de\", \"un\", \"tipo\", \"particular\", \"a\", \"veces\", \"no\", \"es\", \"ni\", \"binario\"]```\n"
   ]
  },
  {
   "cell_type": "code",
   "execution_count": 215,
   "metadata": {
    "id": "cLY9WB7YRWxI"
   },
   "outputs": [
    {
     "name": "stdout",
     "output_type": "stream",
     "text": [
      "Los indices del elemento duplicado 'un' son: [0, 7]\n",
      "Los indices del elemento duplicado 'es' son: [3, 13]\n",
      "Los indices del elemento duplicado 'binario' son: [2, 15]\n"
     ]
    }
   ],
   "source": [
    "# Haz un programa que detecte todos los duplicados de un elemento en una lista:\n",
    "ejer_3 = [\"Un\", \"árbol\", \"binario\", \"es\", \"una\", \"estructura\", \"de\", \"un\", \"tipo\", \"particular\", \"a\", \"veces\", \"no\", \"es\", \"ni\", \"binario\"]\n",
    "ejer_3_minusculas = []\n",
    "\n",
    "# Utiliza una variable duplicado para asignarle el valor del elemento del que queremos encontrar todos sus duplicados.\n",
    "duplicado_un = \"un\"\n",
    "indices_un = []\n",
    "\n",
    "duplicado_es = \"es\"\n",
    "indices_es = []\n",
    "\n",
    "duplicado_binario = \"binario\"\n",
    "indices_binario = []\n",
    "\n",
    "\n",
    "# El programa debe devolver todos los índices de los elementos duplicados.\n",
    "# Aplícalo para encontrar los duplicados de \"un\", \"es\" y \"binario\" de:\n",
    "# Paso 1: convertir la lista a minúsculas\n",
    "for palabra in ejer_3:\n",
    "    palabra_minuscula = palabra.lower()\n",
    "    ejer_3_minusculas.append(palabra_minuscula)\n",
    "\n",
    "# Paso 2: Encontrar los indices a través de la variable i\n",
    "for i in range(len(ejer_3_minusculas)): #i será un número, en este caso el indice\n",
    "    if ejer_3_minusculas[i] == duplicado_un:\n",
    "        indices_un.append(i)\n",
    "print(\"Los indices del elemento duplicado 'un' son:\",indices_un)\n",
    "\n",
    "for i in range(len(ejer_3_minusculas)):\n",
    "    if ejer_3_minusculas[i] == duplicado_es:\n",
    "        indices_es.append(i)\n",
    "print(\"Los indices del elemento duplicado 'es' son:\",indices_es)\n",
    "\n",
    "for i in range(len(ejer_3_minusculas)):\n",
    "    if ejer_3_minusculas[i] == duplicado_binario:\n",
    "        indices_binario.append(i)\n",
    "print(\"Los indices del elemento duplicado 'binario' son:\",indices_binario)"
   ]
  },
  {
   "cell_type": "markdown",
   "metadata": {
    "id": "3WrBd5QaRWxI",
    "jp-MarkdownHeadingCollapsed": true
   },
   "source": [
    "## Ejercicio 3\n",
    "1. ¿Cuántas veces se repite el 3 en la siguiente tupla?\n",
    "2. Crea una tupla nueva con los elementos desde la posicion 5 a la 10.\n",
    "3. ¿Cuántos elementos tiene la tupla `ejer_3`?\n",
    "> ```ejer_9 = (3, 20, 3, 47, 19, 3, 29, 45, 67, 78, 90, 3, 3, 5, 2, 4, 7, 9, 4, 2, 4, 3, 3, 4, 6, 7)```"
   ]
  },
  {
   "cell_type": "code",
   "execution_count": 133,
   "metadata": {
    "id": "bkv_R5LYRWxI"
   },
   "outputs": [
    {
     "name": "stdout",
     "output_type": "stream",
     "text": [
      "1. El número tres se repite: 7 veces.\n",
      "\n",
      "2. Esta es nuestra tupla con los elementos desde la posición 5 a la 10:\n",
      " (19, 3, 29, 45, 67, 78) \n",
      "\n",
      "3. La tupla 'ejer_3' tiene exactamente: 16 elementos.\n"
     ]
    }
   ],
   "source": [
    "#1. ¿Cuántas veces se repite el 3 en la siguiente tupla?\n",
    "ejer_9 = (3, 20, 3, 47, 19, 3, 29, 45, 67, 78, 90, 3, 3, 5, 2, 4, 7, 9, 4, 2, 4, 3, 3, 4, 6, 7)\n",
    "repeticion_tres = ejer_9.count(3)\n",
    "print(\"1. El número tres se repite:\",repeticion_tres, \"veces.\\n\")\n",
    "\n",
    "#2. Crea una tupla nueva con los elementos desde la posicion 5 a la 10.\n",
    "nueva_tupla = ejer_9[4:10]\n",
    "print(\"2. Esta es nuestra tupla con los elementos desde la posición 5 a la 10:\\n\",nueva_tupla,\"\\n\")\n",
    "\n",
    "#3. ¿Cuántos elementos tiene la tupla ejer_3?\n",
    "print(\"3. La tupla 'ejer_3' tiene exactamente:\",len(ejer_3),\"elementos.\")"
   ]
  },
  {
   "cell_type": "markdown",
   "metadata": {
    "id": "6g8Y54AeRWxI",
    "jp-MarkdownHeadingCollapsed": true
   },
   "source": [
    "## Ejercicio 4\n",
    "Comprueba si el numero 60 esta en la tupla del ejercicio 3"
   ]
  },
  {
   "cell_type": "code",
   "execution_count": 132,
   "metadata": {
    "id": "F8VTEZonRWxI"
   },
   "outputs": [
    {
     "name": "stdout",
     "output_type": "stream",
     "text": [
      "¿Está el número 60 en la tupla del ejericio 3?: No\n"
     ]
    }
   ],
   "source": [
    "# Comprueba si el numero 60 esta en la tupla del ejercicio 3\n",
    "if ejer_9.count(60)>1:\n",
    "    print(\"¿Está el número 60 en la tupla del ejericio 3?: Sí\")\n",
    "else:\n",
    "    print(\"¿Está el número 60 en la tupla del ejericio 3?: No\")"
   ]
  },
  {
   "cell_type": "markdown",
   "metadata": {
    "id": "y0fg-ZA6RWxI",
    "jp-MarkdownHeadingCollapsed": true
   },
   "source": [
    "## Ejercicio 5\n",
    "1. Convierte la tupla del ejercicio 3 en una lista\n",
    "2. Convierte la tupla del ejercicio 3 en un set\n",
    "3. Convierte la tupla del ejercicio 3 en un diccionario. Usa también los indices"
   ]
  },
  {
   "cell_type": "code",
   "execution_count": 129,
   "metadata": {
    "id": "_O5hXr01RWxI"
   },
   "outputs": [
    {
     "name": "stdout",
     "output_type": "stream",
     "text": [
      "Convertida la tupla del ejercicio 3 en una lista:\n",
      " [3, 20, 3, 47, 19, 3, 29, 45, 67, 78, 90, 3, 3, 5, 2, 4, 7, 9, 4, 2, 4, 3, 3, 4, 6, 7] \n",
      "\n",
      "Convertida la tupla del ejercicio 3 en un set:\n",
      " {2, 3, 67, 5, 4, 7, 6, 9, 45, 78, 47, 19, 20, 90, 29} \n",
      "\n",
      "Convertida la tupla del ejercicio 3 en un diccionario:\n",
      " {0: 3, 1: 20, 2: 3, 3: 47, 4: 19, 5: 3, 6: 29, 7: 45, 8: 67, 9: 78, 10: 90, 11: 3, 12: 3, 13: 5, 14: 2, 15: 4, 16: 7, 17: 9, 18: 4, 19: 2, 20: 4, 21: 3, 22: 3, 23: 4, 24: 6, 25: 7} \n",
      "\n"
     ]
    }
   ],
   "source": [
    "#1. Convierte la tupla del ejercicio 3 en una lista\n",
    "list_ejer_9 = list(ejer_9)\n",
    "print(\"Convertida la tupla del ejercicio 3 en una lista:\\n\",list_ejer_9,\"\\n\")\n",
    "\n",
    "#2. Convierte la tupla del ejercicio 3 en un set\n",
    "set_ejer_9 = set(ejer_9)\n",
    "print(\"Convertida la tupla del ejercicio 3 en un set:\\n\",set_ejer_9,\"\\n\")\n",
    "\n",
    "#3. Convierte la tupla del ejercicio 3 en un diccionario. Usa también los indices.\n",
    "dict_ejer_9 = {} # Creación de un diccionario vacío\n",
    "\n",
    "for i, valor in enumerate(ejer_9):# El etodo enumerate() devuelve los indices y los valores. i será los indices y valor los valores.\n",
    "    dict_ejer_9[i] = valor # En el diccionario vacío se añaden primero los indices, i, como claves y luego el valor como value.\n",
    "print(\"Convertida la tupla del ejercicio 3 en un diccionario:\\n\",dict_ejer_9,\"\\n\") # Imprimimos el diccionario que se ha ido rellenando con el bucle."
   ]
  },
  {
   "cell_type": "markdown",
   "metadata": {
    "id": "eOdWWbxvRWxJ",
    "jp-MarkdownHeadingCollapsed": true
   },
   "source": [
    "## Ejercicio 6\n",
    "Multiplica todos los valores del diccionario\n",
    "> ```ejer_6 = {1: 11, 2: 22, 3: 33, 4: 44, 5: 55}```"
   ]
  },
  {
   "cell_type": "code",
   "execution_count": 131,
   "metadata": {
    "id": "KcuByovKRWxJ"
   },
   "outputs": [
    {
     "name": "stdout",
     "output_type": "stream",
     "text": [
      "Hemos creado una lista que contenga solo los valores del diccionario 'ejer_6':\n",
      " [11, 22, 33, 44, 55] \n",
      "\n",
      "El resultado de la multiplicación de los valores del diccionario es: 19326120\n"
     ]
    }
   ],
   "source": [
    "# Multiplica todos los valores del diccionario\n",
    "ejer_6 = {1: 11, 2: 22, 3: 33, 4: 44, 5: 55}\n",
    "valores_ejer_6 = list(ejer_6.values()) # Creamos una lista con unicamente los valores del diccionario.\n",
    "print(\"Hemos creado una lista que contenga solo los valores del diccionario 'ejer_6':\\n\",valores_ejer_6,\"\\n\")\n",
    "\n",
    "# Declaramos una variable que será nuestro resultado final.\n",
    "# Declaramos primero esta variable como 1 porque dentro del bucle irá iternado con otros valores.\n",
    "resultado = 1\n",
    "\n",
    "for i in valores_ejer_6:\n",
    "    resultado = resultado * i # Se va multiplicando cada vez más con el nuevo valor de i.\n",
    "print(\"El resultado de la multiplicación de los valores del diccionario es:\",resultado)"
   ]
  },
  {
   "cell_type": "markdown",
   "metadata": {
    "id": "W7TUSaKRRWxJ",
    "jp-MarkdownHeadingCollapsed": true
   },
   "source": [
    "## Ejercicio 7\n",
    "\n",
    "1. Crea un diccionario que describa un libro, con los siguientes campos o claves: \"titulo\",\"autor\",\"idioma original\",\"año de publicación\".\n",
    "2. Crea un a lista, llamada librería.\n",
    "3. Añade cuatro libros a tu elección a la librería."
   ]
  },
  {
   "cell_type": "code",
   "execution_count": 150,
   "metadata": {
    "id": "d-IMRvxRRWxJ",
    "vscode": {
     "languageId": "plaintext"
    }
   },
   "outputs": [
    {
     "name": "stdout",
     "output_type": "stream",
     "text": [
      "Nuestra biblioteca está compuesta por:\n",
      " [{'titulo': 'Sapiens', 'autor': 'Harari', 'idioma original': 'inglés', 'año de publicación': '2011'}, {'titulo': 'El infinito sobre un junco', 'autor': 'Vallejo', 'idioma original': 'español', 'año de publicación': '2019'}, {'titulo': 'Homo Deus', 'autor': 'Harari', 'idioma original': 'inglés', 'año de publicación': '2015'}, {'titulo': 'Nexus', 'autor': 'Harari', 'idioma original': 'inglés', 'año de publicación': '2024'}]\n"
     ]
    }
   ],
   "source": [
    "#1. Crea un diccionario que describa un libro, con los siguientes campos o claves: \"titulo\",\"autor\",\"idioma original\",\"año de publicación\".\n",
    "libro_descripcion = {\"titulo\" : \"\",\"autor\" : \"\",\"idioma original\" : \"\",\"año de publicación\": \"\"}\n",
    "\n",
    "#2. Crea un a lista, llamada librería.\n",
    "librería = []\n",
    "\n",
    "#3. Añade cuatro libros a tu elección a la librería.\n",
    "# Creación de 4 diccionarios, cada uno representando un libro.\n",
    "libro1 = {\"titulo\" : \"Sapiens\",\"autor\" : \"Harari\",\"idioma original\" : \"inglés\",\"año de publicación\": \"2011\"}\n",
    "libro2 = {\"titulo\" : \"El infinito sobre un junco\",\"autor\" : \"Vallejo\",\"idioma original\" : \"español\",\"año de publicación\": \"2019\"}\n",
    "libro3 = {\"titulo\" : \"Homo Deus\",\"autor\" : \"Harari\",\"idioma original\" : \"inglés\",\"año de publicación\": \"2015\"}\n",
    "libro4 = {\"titulo\" : \"Nexus\",\"autor\" : \"Harari\",\"idioma original\" : \"inglés\",\"año de publicación\": \"2024\"}\n",
    "\n",
    "# Se añaden a nuestra librería.\n",
    "librería.append(libro1)\n",
    "librería.append(libro2)\n",
    "librería.append(libro3)\n",
    "librería.append(libro4)\n",
    "\n",
    "print(\"Nuestra biblioteca está compuesta por:\\n\",librería) # La variable librería es una lista que contiene diccionarios."
   ]
  },
  {
   "cell_type": "markdown",
   "metadata": {
    "id": "glMoedjYRWxJ",
    "jp-MarkdownHeadingCollapsed": true
   },
   "source": [
    "## Ejercicio 8\n",
    "Modifica los valores del idioma de todos los libros del ejercicio anterior para que sea \"esperanto\"\n"
   ]
  },
  {
   "cell_type": "code",
   "execution_count": 153,
   "metadata": {
    "id": "veNdC-uwRWxJ"
   },
   "outputs": [
    {
     "name": "stdout",
     "output_type": "stream",
     "text": [
      "{'titulo': 'Sapiens', 'autor': 'Harari', 'idioma original': 'esperanto', 'año de publicación': '2011'}\n",
      "{'titulo': 'El infinito sobre un junco', 'autor': 'Vallejo', 'idioma original': 'esperanto', 'año de publicación': '2019'}\n",
      "{'titulo': 'Homo Deus', 'autor': 'Harari', 'idioma original': 'esperanto', 'año de publicación': '2015'}\n",
      "{'titulo': 'Nexus', 'autor': 'Harari', 'idioma original': 'esperanto', 'año de publicación': '2024'}\n"
     ]
    }
   ],
   "source": [
    "# Modifica los valores del idioma de todos los libros del ejercicio anterior para que sea \"esperanto\".\n",
    "# Como nuestra librería es una lista que contiene diccionarios, si iteramos esta lista, obtendremos diccionarios.\n",
    "for libro in librería: # La variable 'libro' será el diccionario que representa cada libro.\n",
    "    libro[\"idioma original\"] = \"esperanto\" # el indice 'idioma original' representa la clave de cada dicionario.\n",
    "\n",
    "# Al ser 'libro1' un diccionario mutable y parte de la librería, si modificamos el valor dentro de la lista que los contiene\n",
    "# modificará también el diccionario original.\n",
    "\n",
    "print (libro1)\n",
    "print (libro2)\n",
    "print (libro3)\n",
    "print (libro4)"
   ]
  },
  {
   "cell_type": "markdown",
   "metadata": {
    "id": "DRCJG04KRWxJ",
    "jp-MarkdownHeadingCollapsed": true
   },
   "source": [
    "## Ejercicio 9\n",
    "1. Escribe un programa que dada una variable titulo busque los libros que hay en la librería con ese título. Si no se encuentra debe devolver el mensaje `Ese no lo tengo, ¿mola?`\n",
    "2. Pruena que el programa con uno de tus libros y con otro que no contenga tu librería."
   ]
  },
  {
   "cell_type": "code",
   "execution_count": 197,
   "metadata": {
    "id": "eWHdJi9BRWxJ"
   },
   "outputs": [
    {
     "name": "stdin",
     "output_type": "stream",
     "text": [
      "¡Busca tu libro dentro de mi librería!\n",
      "¿Cuál quieres?:  sapiens\n"
     ]
    },
    {
     "name": "stdout",
     "output_type": "stream",
     "text": [
      "\n",
      "¡Lo tengo!\n",
      "¿Te lo pongo para regalo?\n"
     ]
    }
   ],
   "source": [
    "#1. Escribe un programa que dada una variable titulo busque los libros que hay en la librería con ese título.\n",
    "#   Si no se encuentra debe devolver el mensaje Ese no lo tengo, ¿mola?\n",
    "titulo_user = input(\"¡Busca tu libro dentro de mi librería!\\n¿Cuál quieres?: \")\n",
    "\n",
    "# Vamos a definir una función que nos permite poder comprobar si el usuario puede encontrar un título en nuestra librería.\n",
    "\n",
    "for libro in librería:\n",
    "    if libro[\"titulo\"].lower() == titulo_user.lower():\n",
    "        print(\"\\n¡Lo tengo!\\n¿Te lo pongo para regalo?\")\n",
    "        break\n",
    "else:\n",
    "    print(\"\\nEse no lo tengo, ¿mola?\")\n",
    "\n",
    "\n"
   ]
  },
  {
   "cell_type": "markdown",
   "metadata": {
    "id": "17YOpYuFRWxJ",
    "jp-MarkdownHeadingCollapsed": true
   },
   "source": [
    "## Ejercicio 10\n",
    "Convierte el programa del ejercicio 2 en una función al que se le pase el valor a buscar como un argumento posicional"
   ]
  },
  {
   "cell_type": "code",
   "execution_count": 231,
   "metadata": {
    "id": "xbj0LgvnRWxJ"
   },
   "outputs": [
    {
     "name": "stdout",
     "output_type": "stream",
     "text": [
      "nuestra frase es: Un árbol binario es una estructura de un tipo particular a veces no es ni binario\n"
     ]
    },
    {
     "name": "stdin",
     "output_type": "stream",
     "text": [
      "¿Qué palabra piensas que puede estar duplicada?:  UN\n"
     ]
    },
    {
     "name": "stdout",
     "output_type": "stream",
     "text": [
      "Efectivamente esta palabra está duplicada. Los indices de los duplicados de 'UN' son: [0, 7]\n"
     ]
    }
   ],
   "source": [
    "# Convierte el programa del ejercicio 2 en una función al que se le pase el valor a buscar como un argumento posicional\n",
    "ejer_3 = [\"Un\", \"árbol\", \"binario\", \"es\", \"una\", \"estructura\", \"de\", \"un\", \"tipo\", \"particular\", \"a\", \"veces\", \"no\", \"es\", \"ni\", \"binario\"]\n",
    "ejer_3_minusculas = []\n",
    "frase = \" \".join(ejer_3)\n",
    "print(\"nuestra frase es:\",frase)\n",
    "\n",
    "for palabra in ejer_3:\n",
    "    palabra_minuscula = palabra.lower()\n",
    "    ejer_3_minusculas.append(palabra_minuscula)\n",
    "\n",
    "duplicado = input(\"¿Qué palabra piensas que puede estar duplicada?: \")\n",
    "indices = []\n",
    "\n",
    "def buscador(duplicado): \n",
    "    for i in range(len(ejer_3_minusculas)): # i será un número, en este caso el indice\n",
    "        if ejer_3_minusculas[i] == duplicado.lower():\n",
    "            indices.append(i)\n",
    "    if indices:\n",
    "        print(\"Efectivamente esta palabra está duplicada. Los indices de los duplicados de '\",duplicado, \"' son: \",indices, sep = \"\")\n",
    "    else:\n",
    "        print(\"tu palabra '\", duplicado, \"' no está en la frase.\", sep = \"\")\n",
    "    #return duplicado\n",
    "\n",
    "buscador(duplicado)"
   ]
  },
  {
   "cell_type": "markdown",
   "metadata": {
    "id": "xZ-sWJxPRWxJ",
    "jp-MarkdownHeadingCollapsed": true
   },
   "source": [
    "## Ejercicio 11\n",
    "Convierte el programa del ejercicio 9 en una función al que se le pasen como argumentos la librería, posicional, y el título, argumento keyword con valor \"ninguno\", por defecto."
   ]
  },
  {
   "cell_type": "code",
   "execution_count": 236,
   "metadata": {
    "id": "4-JrsMdNRWxK"
   },
   "outputs": [
    {
     "name": "stdin",
     "output_type": "stream",
     "text": [
      "¡Busca tu libro dentro de mi librería!\n",
      "¿Cuál quieres?:  ncasl\n"
     ]
    },
    {
     "name": "stdout",
     "output_type": "stream",
     "text": [
      "\n",
      "Ese no lo tengo, ¿mola?\n"
     ]
    }
   ],
   "source": [
    "#Convierte el programa del ejercicio 9 en una función al que se le pasen como argumentos la librería, posicional, y el título, argumento keyword con valor \"ninguno\", por defecto.\n",
    "titulo_user = input(\"¡Busca tu libro dentro de mi librería!\\n¿Cuál quieres?: \")\n",
    "\n",
    "def buscador_titulo(librería, titulo=None):\n",
    "    for libro in librería:\n",
    "        if libro[\"titulo\"].lower() == titulo_user.lower():\n",
    "            print(\"\\n¡Lo tengo!\\n¿Te lo pongo para regalo?\")\n",
    "            break\n",
    "    else:\n",
    "        print(\"\\nEse no lo tengo, ¿mola?\")\n",
    "\n",
    "buscador_titulo(librería, titulo=titulo_user)"
   ]
  },
  {
   "cell_type": "markdown",
   "metadata": {
    "id": "FtJir95QRWxK",
    "jp-MarkdownHeadingCollapsed": true
   },
   "source": [
    "## Ejercicio 12\n",
    "Solicitar al usuario que ingrese su dirección email. Imprimir un mensaje indicando si la dirección es válida o no, valiéndose de una función para decidirlo. Una dirección se considerará válida si contiene el símbolo \"@\"."
   ]
  },
  {
   "cell_type": "code",
   "execution_count": 247,
   "metadata": {
    "id": "sk852IZ8RWxK"
   },
   "outputs": [
    {
     "name": "stdin",
     "output_type": "stream",
     "text": [
      "Introduzca su dirección email, por favor:  kla@\n"
     ]
    },
    {
     "name": "stdout",
     "output_type": "stream",
     "text": [
      "\n",
      "Hemos comprabado su email y es correcto.\n",
      "¡Gracias!\n"
     ]
    }
   ],
   "source": [
    "# Solicitar al usuario que ingrese su dirección email.\n",
    "# Imprimir un mensaje indicando si la dirección es válida o no, valiéndose de una función para decidirlo.\n",
    "# Una dirección se considerará válida si contiene el símbolo \"@\".\n",
    "\n",
    "mail = input(\"Introduzca su dirección email, por favor: \")\n",
    "\n",
    "def comprobacion_mail(mail):\n",
    "    for i in mail: # Nos permite comprobar cada letra del mail.\n",
    "        if i == \"@\":\n",
    "            i = True\n",
    "            continue # Nos permite seguir explorando más letras mientras no se de esta condición.\n",
    "            #  es True salimos del bucle.\n",
    "            # Si termina las iteraciones y no ha encontrado el '@', sale igualmente del bucle.\n",
    "            \n",
    "    if i == True: # Es otra condición, ya fuera del bucle que nos permite imprimir los resultados.\n",
    "        print(\"\\nHemos comprabado su email y es correcto.\\n¡Gracias!\")\n",
    "    else:\n",
    "        print(\"\\nHemos comprabado su email y no parece correcto.\\nPor favor, compruebe de nuevo que contenga '@'\")\n",
    "\n",
    "comprobacion_mail(mail)"
   ]
  },
  {
   "cell_type": "markdown",
   "metadata": {
    "id": "Kw1MWBwBRWxK",
    "jp-MarkdownHeadingCollapsed": true
   },
   "source": [
    "## Ejercicio 13\n",
    "Escribe una función que compruebe si un DNI es válido, devolviendo `True` en caso afirmativo.  \n",
    "En primer lugar, el DNI debe tener entre 7 y 8 dígitos numéricos.  \n",
    "Para saber si la letra del DNI es correcta puedes utilizar el siguiente fragmento de código:\n",
    ">```Python\n",
    ">DNI= 55555555\n",
    ">palabra='TRWAGMYFPDXBNJZSQVHLCKE'\n",
    ">print('La letra del DNI es: ', palabra[DNI%23])\n",
    ">````\n"
   ]
  },
  {
   "cell_type": "code",
   "execution_count": 357,
   "metadata": {
    "id": "F5Z9rSHqRWxK"
   },
   "outputs": [
    {
     "name": "stdin",
     "output_type": "stream",
     "text": [
      "Introduzca su DNI, por favor.\n",
      "Recuerde que tiene que tener entre 7 y 8 digitos y una letra al final:  12345678Z\n"
     ]
    },
    {
     "name": "stdout",
     "output_type": "stream",
     "text": [
      "\n",
      "¡Su DNI es correcto! ¡Gracias!\n"
     ]
    }
   ],
   "source": [
    "# Escribe una función que compruebe si un DNI es válido, devolviendo True en caso afirmativo.\n",
    "# En primer lugar, el DNI debe tener entre 7 y 8 dígitos numéricos.\n",
    "# Para saber si la letra del DNI es correcta puedes utilizar el siguiente fragmento de código:\n",
    "# DNI = 55555555\n",
    "# palabra ='TRWAGMYFPDXBNJZSQVHLCKE'\n",
    "# print('La letra del DNI es: ', palabra[DNI%23])\n",
    "\n",
    "dni_user = input(\"Introduzca su DNI, por favor.\\nRecuerde que tiene que tener entre 7 y 8 digitos y una letra al final: \")\n",
    "\n",
    "def comprobacion_dni(dni_user):\n",
    "    palabra ='TRWAGMYFPDXBNJZSQVHLCKE'\n",
    "\n",
    "# Comprobando que el último caráter es una letra.\n",
    "# Si tiene una sola letra y al final. Pasa a la siguiente fase.\n",
    "    try:\n",
    "        dni_user_num = int(dni_user[:-1])\n",
    "\n",
    "    except:\n",
    "        print(\"\\nRevise su DNI porque hay un problema con la letra.\")\n",
    "        return\n",
    "       \n",
    "# Comprobacion de la longitud de los dígitos del DNI.\n",
    "# Si pasa, se declara la variable 'letra_correcta' porque estamos seguros del formato del DNI.\n",
    "    if 9>len(dni_user[:-1])>6:\n",
    "        letra_correcta = palabra[dni_user_num%23]\n",
    "\n",
    "# Comprobando que la letra es correcta.\n",
    "        if dni_user[-1] == letra_correcta:\n",
    "            print(\"\\n¡Su DNI es correcto! ¡Gracias!\")\n",
    "        else:\n",
    "            print(\"\\nRevise su DNI porque no es la letra correcta.\")\n",
    "    else:\n",
    "        print(\"\\nRevise su DNI porque no tiene entre 7 y 8 digitos.\")\n",
    "\n",
    "comprobacion_dni(dni_user)\n"
   ]
  },
  {
   "cell_type": "code",
   "execution_count": null,
   "metadata": {},
   "outputs": [],
   "source": []
  }
 ],
 "metadata": {
  "colab": {
   "provenance": []
  },
  "kernelspec": {
   "display_name": "Python 3 (ipykernel)",
   "language": "python",
   "name": "python3"
  },
  "language_info": {
   "codemirror_mode": {
    "name": "ipython",
    "version": 3
   },
   "file_extension": ".py",
   "mimetype": "text/x-python",
   "name": "python",
   "nbconvert_exporter": "python",
   "pygments_lexer": "ipython3",
   "version": "3.10.11"
  }
 },
 "nbformat": 4,
 "nbformat_minor": 4
}
