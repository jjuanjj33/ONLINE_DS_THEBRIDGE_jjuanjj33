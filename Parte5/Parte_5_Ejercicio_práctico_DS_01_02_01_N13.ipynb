{
 "cells": [
  {
   "cell_type": "markdown",
   "metadata": {
    "id": "9l3HMgm6RWxF"
   },
   "source": [
    "![TheBridge_logo_RGB_color.jpg](attachment:TheBridge_logo_RGB_color.jpg)"
   ]
  },
  {
   "cell_type": "markdown",
   "metadata": {
    "id": "RGg9iWpoRWxG"
   },
   "source": [
    "![ejercicios.png](attachment:ejercicios.png)"
   ]
  },
  {
   "cell_type": "markdown",
   "metadata": {
    "id": "AyOlWS2nRWxH"
   },
   "source": [
    "## PRACTICA OBLIGATORIA: COLECCIONES Y FUNCIONES"
   ]
  },
  {
   "cell_type": "markdown",
   "metadata": {
    "id": "6UOgb0KVRWxH"
   },
   "source": [
    "* La práctica obligatoria de esta unidad consiste varios ejercicios de programación libre a completar sobre Colecciones y Funciones. Descarga este notebook en tu ordenador y trabaja en local.  \n",
    "* Recuerda que debes subirla a tu repositorio personal antes de la sesión en vivo para que puntúe adecuadamente y puedas participar en dicha sesión.  \n",
    "* Recuerda también que no es necesario que esté perfecta, sólo es necesario que se vea el esfuerzo.\n",
    "* Esta práctica se resolverá en la sesión en vivo correspondiente y la solución se publicará en el repo del curso."
   ]
  },
  {
   "cell_type": "markdown",
   "metadata": {
    "id": "j3yu-tEjRWxH"
   },
   "source": [
    "### Contenidos"
   ]
  },
  {
   "cell_type": "markdown",
   "metadata": {
    "id": "kO-fLH39RWxH"
   },
   "source": [
    "## Ejercicio 1\n",
    "Eleva todos los elementos de la lista al cuadrado\n",
    "> ```ejer_2 = [1,2,3,4,5]```"
   ]
  },
  {
   "cell_type": "code",
   "execution_count": 4,
   "metadata": {
    "id": "ks5l3yi7RWxH"
   },
   "outputs": [
    {
     "name": "stdout",
     "output_type": "stream",
     "text": [
      "Nuestros elementos son: [1, 2, 3, 4, 5]\n",
      "El elemento 1 elevado al cuadrado es:  1\n",
      "El elemento 2 elevado al cuadrado es:  4\n",
      "El elemento 3 elevado al cuadrado es:  9\n",
      "El elemento 4 elevado al cuadrado es:  16\n",
      "El elemento 5 elevado al cuadrado es:  25\n"
     ]
    }
   ],
   "source": [
    "ejer_2 = [1,2,3,4,5]\n",
    "print(\"Nuestros elementos son:\",ejer_2)\n",
    "for i in ejer_2:\n",
    "    j = i*i\n",
    "    print(\"El elemento\",i, \"elevado al cuadrado es: \",j)"
   ]
  },
  {
   "cell_type": "markdown",
   "metadata": {
    "id": "kI_Xr5oFRWxI"
   },
   "source": [
    "## Ejercicio 2\n",
    "Haz un programa que detecte todos los duplicados de un elemento en una lista:\n",
    "* Utiliza una variable duplicado para asignarle el valor del elemento del que queremos encontrar todos sus duplicados.\n",
    "* El programa debe devolver todos los índices de los elementos duplicados.\n",
    "* Aplícalo para encontrar los duplicados de \"un\", \"es\" y \"binario\" de:  \n",
    "\n",
    ">```ejer_3 = [\"Un\", \"árbol\", \"binario\", \"es\", \"una\", \"estructura\", \"de\", \"un\", \"tipo\", \"particular\", \"a\", \"veces\", \"no\", \"es\", \"ni\", \"binario\"]```\n"
   ]
  },
  {
   "cell_type": "code",
   "execution_count": 118,
   "metadata": {
    "id": "cLY9WB7YRWxI"
   },
   "outputs": [
    {
     "name": "stdout",
     "output_type": "stream",
     "text": [
      "Los indices del elemento duplicado 'un' son: [0, 7]\n",
      "Los indices del elemento duplicado 'es' son: [3, 13]\n",
      "Los indices del elemento duplicado 'binario' son: [2, 15]\n"
     ]
    }
   ],
   "source": [
    "ejer_3 = [\"Un\", \"árbol\", \"binario\", \"es\", \"una\", \"estructura\", \"de\", \"un\", \"tipo\", \"particular\", \"a\", \"veces\", \"no\", \"es\", \"ni\", \"binario\"]\n",
    "ejer_3_minusculas = []\n",
    "\n",
    "duplicado_un = \"un\"\n",
    "indices_un = []\n",
    "\n",
    "duplicado_es = \"es\"\n",
    "indices_es = []\n",
    "\n",
    "duplicado_binario = \"binario\"\n",
    "indices_binario = []\n",
    "\n",
    "\n",
    "# Paso 1: convertir la lista a minúsculas\n",
    "for palabra in ejer_3:\n",
    "    palabra_minuscula = palabra.lower()\n",
    "    ejer_3_minusculas.append(palabra_minuscula)\n",
    "\n",
    "# Paso 2: Encontrar los indices\n",
    "for i in range(len(ejer_3_minusculas)):\n",
    "    if ejer_3_minusculas[i] == duplicado_un:\n",
    "        indices_un.append(i)\n",
    "print(\"Los indices del elemento duplicado 'un' son:\",indices_un)\n",
    "\n",
    "for i in range(len(ejer_3_minusculas)):\n",
    "    if ejer_3_minusculas[i] == duplicado_es:\n",
    "        indices_es.append(i)\n",
    "print(\"Los indices del elemento duplicado 'es' son:\",indices_es)\n",
    "\n",
    "for i in range(len(ejer_3_minusculas)):\n",
    "    if ejer_3_minusculas[i] == duplicado_binario:\n",
    "        indices_binario.append(i)\n",
    "print(\"Los indices del elemento duplicado 'binario' son:\",indices_binario)"
   ]
  },
  {
   "cell_type": "markdown",
   "metadata": {
    "id": "3WrBd5QaRWxI"
   },
   "source": [
    "## Ejercicio 3\n",
    "1. ¿Cuántas veces se repite el 3 en la siguiente tupla?\n",
    "2. Crea una tupla nueva con los elementos desde la posicion 5 a la 10.\n",
    "3. ¿Cuántos elementos tiene la tupla `ejer_3`?\n",
    "> ```ejer_9 = (3, 20, 3, 47, 19, 3, 29, 45, 67, 78, 90, 3, 3, 5, 2, 4, 7, 9, 4, 2, 4, 3, 3, 4, 6, 7)```"
   ]
  },
  {
   "cell_type": "code",
   "execution_count": 66,
   "metadata": {
    "id": "bkv_R5LYRWxI"
   },
   "outputs": [
    {
     "name": "stdout",
     "output_type": "stream",
     "text": [
      "El número tres se repite: 7\n",
      "Esta es nuestra tupla con los elementos desde la posición 5 a la 10: (19, 3, 29, 45, 67, 78)\n",
      "La tupla 'ejer_3' tiene exactamente: 16 elementos.\n"
     ]
    }
   ],
   "source": [
    "ejer_9 = (3, 20, 3, 47, 19, 3, 29, 45, 67, 78, 90, 3, 3, 5, 2, 4, 7, 9, 4, 2, 4, 3, 3, 4, 6, 7)\n",
    "repeticion_tres = ejer_9.count(3)\n",
    "print(\"El número tres se repite:\",repeticion_tres)\n",
    "\n",
    "nueva_tupla = ejer_9[4:10]\n",
    "print(\"Esta es nuestra tupla con los elementos desde la posición 5 a la 10:\",nueva_tupla)\n",
    "\n",
    "print(\"La tupla 'ejer_3' tiene exactamente:\",len(ejer_3),\"elementos.\")"
   ]
  },
  {
   "cell_type": "markdown",
   "metadata": {
    "id": "6g8Y54AeRWxI"
   },
   "source": [
    "## Ejercicio 4\n",
    "Comprueba si el numero 60 esta en la tupla del ejercicio 3"
   ]
  },
  {
   "cell_type": "code",
   "execution_count": 70,
   "metadata": {
    "id": "F8VTEZonRWxI"
   },
   "outputs": [
    {
     "name": "stdout",
     "output_type": "stream",
     "text": [
      "¿Está el número 60 en la tupla del ejericio 3?: No\n"
     ]
    }
   ],
   "source": [
    "if ejer_9.count(60)>1:\n",
    "    print(\"¿Está el número 60 en la tupla del ejericio 3?: Sí\")\n",
    "else:\n",
    "    print(\"¿Está el número 60 en la tupla del ejericio 3?: No\")"
   ]
  },
  {
   "cell_type": "markdown",
   "metadata": {
    "id": "y0fg-ZA6RWxI"
   },
   "source": [
    "## Ejercicio 5\n",
    "1. Convierte la tupla del ejercicio 3 en una lista\n",
    "2. Convierte la tupla del ejercicio 3 en un set\n",
    "3. Convierte la tupla del ejercicio 3 en un diccionario. Usa también los indices"
   ]
  },
  {
   "cell_type": "code",
   "execution_count": 86,
   "metadata": {
    "id": "_O5hXr01RWxI"
   },
   "outputs": [
    {
     "name": "stdout",
     "output_type": "stream",
     "text": [
      "Convertida la tupla del ejercicio 3 en una lista:\n",
      " [3, 20, 3, 47, 19, 3, 29, 45, 67, 78, 90, 3, 3, 5, 2, 4, 7, 9, 4, 2, 4, 3, 3, 4, 6, 7] \n",
      "\n",
      "Convertida la tupla del ejercicio 3 en un set:\n",
      " {2, 3, 67, 5, 4, 7, 6, 9, 45, 78, 47, 19, 20, 90, 29} \n",
      "\n",
      "Convertida la tupla del ejercicio 3 en un diccionario:\n",
      " {0: 3, 1: 20, 2: 3, 3: 47, 4: 19, 5: 3, 6: 29, 7: 45, 8: 67, 9: 78, 10: 90, 11: 3, 12: 3, 13: 5, 14: 2, 15: 4, 16: 7, 17: 9, 18: 4, 19: 2, 20: 4, 21: 3, 22: 3, 23: 4, 24: 6, 25: 7} \n",
      "\n"
     ]
    }
   ],
   "source": [
    "list_ejer_9 = list(ejer_9)\n",
    "print(\"Convertida la tupla del ejercicio 3 en una lista:\\n\",list_ejer_9,\"\\n\")\n",
    "\n",
    "set_ejer_9 = set(ejer_9)\n",
    "print(\"Convertida la tupla del ejercicio 3 en un set:\\n\",set_ejer_9,\"\\n\")\n",
    "\n",
    "dict_ejer_9 = {}\n",
    "for i, valor in enumerate(ejer_9):\n",
    "    dict_ejer_9[i] = valor\n",
    "print(\"Convertida la tupla del ejercicio 3 en un diccionario:\\n\",dict_ejer_9,\"\\n\")"
   ]
  },
  {
   "cell_type": "markdown",
   "metadata": {
    "id": "eOdWWbxvRWxJ"
   },
   "source": [
    "## Ejercicio 6\n",
    "Multiplica todos los valores del diccionario\n",
    "> ```ejer_6 = {1: 11, 2: 22, 3: 33, 4: 44, 5: 55}```"
   ]
  },
  {
   "cell_type": "code",
   "execution_count": 97,
   "metadata": {
    "id": "KcuByovKRWxJ"
   },
   "outputs": [
    {
     "name": "stdout",
     "output_type": "stream",
     "text": [
      "El resultado de la multiplicación de los valores del diccionario es: 19326120\n"
     ]
    }
   ],
   "source": [
    "ejer_6 = {1: 11, 2: 22, 3: 33, 4: 44, 5: 55}\n",
    "valores_ejer_6 = list(ejer_6.values())\n",
    "resultado = 1\n",
    "\n",
    "for i in valores_ejer_6:\n",
    "    resultado = resultado * i\n",
    "print(\"El resultado de la multiplicación de los valores del diccionario es:\",resultado)"
   ]
  },
  {
   "cell_type": "markdown",
   "metadata": {
    "id": "W7TUSaKRRWxJ"
   },
   "source": [
    "## Ejercicio 7\n",
    "\n",
    "1. Crea un diccionario que describa un libro, con los siguientes campos o claves: \"titulo\",\"autor\",\"idioma original\",\"año de publicación\".\n",
    "2. Crea un a lista, llamada librería.\n",
    "3. Añade cuatro libros a tu elección a la librería."
   ]
  },
  {
   "cell_type": "code",
   "execution_count": 107,
   "metadata": {
    "id": "d-IMRvxRRWxJ",
    "vscode": {
     "languageId": "plaintext"
    }
   },
   "outputs": [
    {
     "name": "stdout",
     "output_type": "stream",
     "text": [
      "<class 'list'>\n"
     ]
    }
   ],
   "source": [
    "#1. Crea un diccionario que describa un libro, con los siguientes campos o claves: \"titulo\",\"autor\",\"idioma original\",\"año de publicación\".\n",
    "libro_descripcion = {\"titulo\" : \"\",\"autor\" : \"\",\"idioma original\" : \"\",\"año de publicación\": \"\"}\n",
    "\n",
    "#2. Crea un a lista, llamada librería.\n",
    "librería = []\n",
    "\n",
    "#3. Añade cuatro libros a tu elección a la librería.\n",
    "libro1 = {\"titulo\" : \"Sapiens\",\"autor\" : \"Harari\",\"idioma original\" : \"inglés\",\"año de publicación\": \"2011\"}\n",
    "libro2 = {\"titulo\" : \"El infinito sobre un junco\",\"autor\" : \"Vallejo\",\"idioma original\" : \"español\",\"año de publicación\": \"2019\"}\n",
    "libro3 = {\"titulo\" : \"Homo Deus\",\"autor\" : \"Harari\",\"idioma original\" : \"inglés\",\"año de publicación\": \"2015\"}\n",
    "libro4 = {\"titulo\" : \"Nexus\",\"autor\" : \"Harari\",\"idioma original\" : \"inglés\",\"año de publicación\": \"2024\"}\n",
    "\n",
    "librería.append(libro1)\n",
    "librería.append(libro2)\n",
    "librería.append(libro3)\n",
    "librería.append(libro4)\n",
    "\n",
    "print(type(librería))"
   ]
  },
  {
   "cell_type": "markdown",
   "metadata": {
    "id": "glMoedjYRWxJ"
   },
   "source": [
    "## Ejercicio 8\n",
    "Modifica los valores del idioma de todos los libros del ejercicio anterior para que sea \"esperanto\"\n"
   ]
  },
  {
   "cell_type": "code",
   "execution_count": 125,
   "metadata": {
    "id": "veNdC-uwRWxJ"
   },
   "outputs": [
    {
     "name": "stdout",
     "output_type": "stream",
     "text": [
      "{'titulo': 'Sapiens', 'autor': 'Harari', 'idioma original': 'esperanto', 'año de publicación': '2011'}\n",
      "{'titulo': 'El infinito sobre un junco', 'autor': 'Vallejo', 'idioma original': 'esperanto', 'año de publicación': '2019'}\n",
      "{'titulo': 'Homo Deus', 'autor': 'Harari', 'idioma original': 'esperanto', 'año de publicación': '2015'}\n",
      "{'titulo': 'Nexus', 'autor': 'Harari', 'idioma original': 'esperanto', 'año de publicación': '2024'}\n"
     ]
    }
   ],
   "source": [
    "for libro in librería:\n",
    "    libro[\"idioma original\"] = \"esperanto\"\n",
    "\n",
    "print (libro1)\n",
    "print (libro2)\n",
    "print (libro3)\n",
    "print (libro4)"
   ]
  },
  {
   "cell_type": "markdown",
   "metadata": {
    "id": "DRCJG04KRWxJ"
   },
   "source": [
    "## Ejercicio 9\n",
    "1. Escribe un programa que dada una variable titulo busque los libros que hay en la librería con ese título. Si no se encuentra debe devolver el mensaje `Ese no lo tengo, ¿mola?`\n",
    "2. Pruena que el programa con uno de tus libros y con otro que no contenga tu librería."
   ]
  },
  {
   "cell_type": "code",
   "execution_count": null,
   "metadata": {
    "id": "eWHdJi9BRWxJ"
   },
   "outputs": [],
   "source": []
  },
  {
   "cell_type": "markdown",
   "metadata": {
    "id": "17YOpYuFRWxJ"
   },
   "source": [
    "## Ejercicio 10\n",
    "Convierte el programa del ejercicio 2 en una función al que se le pase el valor a buscar como un argumento posicional"
   ]
  },
  {
   "cell_type": "code",
   "execution_count": null,
   "metadata": {
    "id": "xbj0LgvnRWxJ"
   },
   "outputs": [],
   "source": []
  },
  {
   "cell_type": "markdown",
   "metadata": {
    "id": "xZ-sWJxPRWxJ"
   },
   "source": [
    "## Ejercicio 11\n",
    "Convierte el programa del ejercicio 9 en una función al que se le pasen como argumentos la librería, posicional, y el título, argumento keyword con valor \"ninguno\", por defecto."
   ]
  },
  {
   "cell_type": "code",
   "execution_count": null,
   "metadata": {
    "id": "4-JrsMdNRWxK"
   },
   "outputs": [],
   "source": []
  },
  {
   "cell_type": "markdown",
   "metadata": {
    "id": "FtJir95QRWxK"
   },
   "source": [
    "## Ejercicio 12\n",
    "Solicitar al usuario que ingrese su dirección email. Imprimir un mensaje indicando si la dirección es válida o no, valiéndose de una función para decidirlo. Una dirección se considerará válida si contiene el símbolo \"@\"."
   ]
  },
  {
   "cell_type": "code",
   "execution_count": null,
   "metadata": {
    "id": "sk852IZ8RWxK"
   },
   "outputs": [],
   "source": []
  },
  {
   "cell_type": "markdown",
   "metadata": {
    "id": "Kw1MWBwBRWxK"
   },
   "source": [
    "## Ejercicio 13\n",
    "Escribe una función que compruebe si un DNI es válido, devolviendo `True` en caso afirmativo.  \n",
    "En primer lugar, el DNI debe tener entre 7 y 8 dígitos numéricos.  \n",
    "Para saber si la letra del DNI es correcta puedes utilizar el siguiente fragmento de código:\n",
    ">```Python\n",
    ">DNI= 55555555\n",
    ">palabra='TRWAGMYFPDXBNJZSQVHLCKE'\n",
    ">print('La letra del DNI es: ', palabra[DNI%23])\n",
    ">````\n"
   ]
  },
  {
   "cell_type": "code",
   "execution_count": null,
   "metadata": {
    "id": "F5Z9rSHqRWxK"
   },
   "outputs": [],
   "source": []
  }
 ],
 "metadata": {
  "colab": {
   "provenance": []
  },
  "kernelspec": {
   "display_name": "Python 3 (ipykernel)",
   "language": "python",
   "name": "python3"
  },
  "language_info": {
   "codemirror_mode": {
    "name": "ipython",
    "version": 3
   },
   "file_extension": ".py",
   "mimetype": "text/x-python",
   "name": "python",
   "nbconvert_exporter": "python",
   "pygments_lexer": "ipython3",
   "version": "3.10.11"
  }
 },
 "nbformat": 4,
 "nbformat_minor": 4
}
