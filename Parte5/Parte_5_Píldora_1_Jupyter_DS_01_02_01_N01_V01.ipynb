{
 "cells": [
  {
   "cell_type": "markdown",
   "metadata": {
    "id": "pGcm3_iWzOTv"
   },
   "source": [
    "![TheBridge_Python_v0.png](attachment:TheBridge_Python_v0.png)"
   ]
  },
  {
   "cell_type": "markdown",
   "metadata": {
    "id": "luysepyzzOTx"
   },
   "source": [
    "# Python Colecciones: Listas\n",
    "\n",
    "\n",
    "Las colecciones son una manera de agrupar varios elementos. En otros notebooks vimos cómo funcionan las listas, que es la colección más usada, pero se trata solo de la punta del iceberg. Con Python tenemos varias manera de almacenar conjuntos de datos, dependiendo del tipo de dato, finalidad, tipo de acceso y rendimiento.\n",
    "  \n",
    "En este primer notebook vamos a repasar las listas y luego continuaremos con los otros tipo de colecciones básicos que tenemos en Python."
   ]
  },
  {
   "cell_type": "markdown",
   "metadata": {
    "id": "4N8n7MHCzOTz"
   },
   "source": [
    "##  Listas\n"
   ]
  },
  {
   "cell_type": "markdown",
   "metadata": {
    "id": "n4u20Vr4zOT0"
   },
   "source": [
    "### Contenidos\n"
   ]
  },
  {
   "cell_type": "markdown",
   "metadata": {
    "id": "X2hDy3sbzOT0"
   },
   "source": [
    "* [Introducción](#Introducción)\n",
    "\n",
    "* [Acceso](#Acceso)\n",
    "\n",
    "* [Modificar elementos](#Modificar-elementos)\n",
    "\n",
    "* [Añadir elementos](#Añadir-elementos)\n",
    "\n",
    "* [Eliminar elementos](#Eliminar-elementos)\n",
    "\n",
    "* [Métodos: ordenar, tamaño, invertir orden, ocurrencia](#Métodos:-ordenar,-tamaño,-invertir-orden,-ocurrencia)\n",
    "\n"
   ]
  },
  {
   "cell_type": "markdown",
   "metadata": {
    "id": "BtxlRbTtzOT1"
   },
   "source": [
    "### Introducción\n",
    "[al indice](#Contenidos)  \n",
    "\n",
    "Ya conocemos bastante las listas. Veamos un repaso de lo que podemos hacer con ellas, así como algunas funcionalidades nuevas"
   ]
  },
  {
   "cell_type": "code",
   "execution_count": null,
   "metadata": {
    "id": "2vtsWuDZzOT2"
   },
   "outputs": [],
   "source": [
    "# Listas de números, strings, booleanos, con elementos repetidos, listas anidadas...\n",
    "nums = [6, 2, 8, 3, 4, 5, 5]\n",
    "months = [\"Enero\", \"Febrero\", \"Marzo\"]\n",
    "mix = [5, 7, \"Abril\", True, None, [\"Blanco\", \"Negro\"]]"
   ]
  },
  {
   "cell_type": "markdown",
   "metadata": {
    "id": "GAzCSIOJzOT3"
   },
   "source": [
    "### Acceso\n",
    "[al indice](#Contenidos)  \n",
    "\n",
    "Entre corchetes introducimos el indice del elemento al que queremos acceder"
   ]
  },
  {
   "cell_type": "code",
   "execution_count": 3,
   "metadata": {
    "id": "uLVDzreRzOT4"
   },
   "outputs": [
    {
     "name": "stdout",
     "output_type": "stream",
     "text": [
      "Enero\n",
      "Febrero\n"
     ]
    }
   ],
   "source": [
    "months = [\"Enero\", \"Febrero\", \"Marzo\"]\n",
    "print (months[0])\n",
    "print (months[-2])"
   ]
  },
  {
   "cell_type": "markdown",
   "metadata": {
    "id": "0OV5x_pTzOT4"
   },
   "source": [
    "Si planteamos el problema al revés. Tenemos los valores de la lista y lo que queremos es obtener el índice de esos valores dentro de la lista"
   ]
  },
  {
   "cell_type": "code",
   "execution_count": 4,
   "metadata": {
    "id": "h44JTyb6zOT5"
   },
   "outputs": [
    {
     "name": "stdout",
     "output_type": "stream",
     "text": [
      "1\n",
      "2\n"
     ]
    }
   ],
   "source": [
    "months = [\"Enero\", \"Febrero\", \"Marzo\", \"Marzo\"]\n",
    "print(months.index(\"Febrero\")) #solo devuelve el indice del primero partiendo del principio\n",
    "print (months.index(\"Marzo\"))"
   ]
  },
  {
   "cell_type": "markdown",
   "metadata": {
    "id": "Or286OzgzOT5"
   },
   "source": [
    "**Slicing**: usamos slicing para acceder a varios elementos seguidos de la lista"
   ]
  },
  {
   "cell_type": "code",
   "execution_count": 9,
   "metadata": {
    "id": "1m8tOckszOT5"
   },
   "outputs": [
    {
     "name": "stdout",
     "output_type": "stream",
     "text": [
      "[34, 15]\n",
      "[34, 15, 26]\n",
      "[34, 15, 26, 18, 22]\n",
      "[34, 15, 26, 18, 22]\n",
      "[34, 15, 26, 18, 22]\n"
     ]
    }
   ],
   "source": [
    "degrees = [22, 34, 15, 26, 18, 22]\n",
    "sub_degrees = degrees[1:3]# Ojo no se inlcuye el ultimo indice, sino el anterior\n",
    "print(sub_degrees)\n",
    "sub_degrees = degrees[1:4]\n",
    "print(sub_degrees)\n",
    "sub_degrees = degrees [1:6]\n",
    "sub_degrees_alt = degrees [1:len(degrees)]\n",
    "sub_degrees_alt_2 = degrees [1:]\n",
    "print(sub_degrees)\n",
    "print(sub_degrees_alt)\n",
    "print(sub_degrees_alt_2)"
   ]
  },
  {
   "cell_type": "markdown",
   "metadata": {
    "id": "fBsrJOCZzOT5"
   },
   "source": [
    "### Modificar elementos\n",
    "[al indice](#Contenidos)  \n",
    "\n",
    "Las listas son mutables, por lo que podremos modificarlas"
   ]
  },
  {
   "cell_type": "code",
   "execution_count": 10,
   "metadata": {
    "id": "b7btmnw6zOT5"
   },
   "outputs": [
    {
     "name": "stdout",
     "output_type": "stream",
     "text": [
      "['Enero', 'Abril', 'Marzo']\n"
     ]
    }
   ],
   "source": [
    "# Accediendo mediante el indice\n",
    "months = [\"Enero\", \"Febrero\", \"Marzo\"]\n",
    "months[1] = \"Abril\"\n",
    "print(months)"
   ]
  },
  {
   "cell_type": "markdown",
   "metadata": {
    "id": "cODEBby0zOT6"
   },
   "source": [
    "### Añadir elementos\n",
    "[al indice](#Contenidos)  \n",
    "\n",
    "Se añade al final de la lista si usamos `append`, o si queremos en un lugar concreto, mediante `insert`"
   ]
  },
  {
   "cell_type": "code",
   "execution_count": 13,
   "metadata": {
    "id": "Hwl0laEOzOT6"
   },
   "outputs": [
    {
     "name": "stdout",
     "output_type": "stream",
     "text": [
      "['honda', 'yamaha', 'suzuki', 'kawasaki']\n",
      "['honda', 'yamaha', 'suzuki', 'bultaco', 'kawasaki']\n"
     ]
    }
   ],
   "source": [
    "# Con append lo añadimos al final de la lista\n",
    "motorcycles = ['honda', 'yamaha', 'suzuki']\n",
    "motorcycles.append(\"kawasaki\")\n",
    "print(motorcycles)\n",
    "motorcycles.insert(3,\"bultaco\")\n",
    "print(motorcycles)"
   ]
  },
  {
   "cell_type": "code",
   "execution_count": 15,
   "metadata": {
    "id": "n7FAOqKrzOT6"
   },
   "outputs": [
    {
     "name": "stdout",
     "output_type": "stream",
     "text": [
      "['Primera:marca']\n",
      "['siguiente_marca', 'Primera:marca']\n"
     ]
    }
   ],
   "source": [
    "# Es muy comun crear una lista vacia, y a lo largo del programa, ir añadiendo elementos\n",
    "lista_motos = []\n",
    "lista_motos.append(\"Primera:marca\")\n",
    "print(lista_motos)\n",
    "# un monton de lineas de codigo\n",
    "lista_motos.insert(0,\"siguiente_marca\")\n",
    "print(lista_motos)"
   ]
  },
  {
   "cell_type": "markdown",
   "metadata": {
    "id": "amqPCvW6zOT6"
   },
   "source": [
    "### Eliminar elementos\n",
    "[al indice](#Contenidos)  \n",
    "\n",
    "Para eliminar elementos se usar `remove`. Si no existe, da error, así que cuidado con esta sentencia.\n",
    "\n",
    "En ocasiones resulta útil quedarnos con el elemento eliminado. Para ello usamos `pop()`, que elimina el elemento que le indiquemos, y además devuelve ese elemento por lo que podremos guardarlo en una variable para usarlo después."
   ]
  },
  {
   "cell_type": "code",
   "execution_count": 16,
   "metadata": {
    "id": "RrLEVPRFzOT7"
   },
   "outputs": [
    {
     "name": "stdout",
     "output_type": "stream",
     "text": [
      "['Seat', 'BMW', 'VW']\n"
     ]
    }
   ],
   "source": [
    "cars = [\"VW\", \"Seat\", \"BMW\", \"VW\"]\n",
    "cars.remove(\"VW\")\n",
    "print(cars)"
   ]
  },
  {
   "cell_type": "code",
   "execution_count": 17,
   "metadata": {
    "id": "YyMn5muAzOT7"
   },
   "outputs": [
    {
     "name": "stdout",
     "output_type": "stream",
     "text": [
      "['VW', 'BMW', 'VW']\n",
      "Seat\n"
     ]
    }
   ],
   "source": [
    "# Eliminar elementos por indice, y guarda ese valor en una variable\n",
    "cars = [\"VW\", \"Seat\", \"BMW\", \"VW\"]\n",
    "eliminado = cars.pop(1)#pop permite también capturar este valor para una variable\n",
    "print(cars)\n",
    "print(eliminado)"
   ]
  },
  {
   "cell_type": "markdown",
   "metadata": {
    "id": "4EwTuQKTzOT7"
   },
   "source": [
    "<table align=\"left\">\n",
    " <tr>\n",
    "     <td style=\"text-align:left\">\n",
    "         <h3>ERRORES remove</h3>\n",
    "         \n",
    " </td></tr>\n",
    "</table>"
   ]
  },
  {
   "cell_type": "code",
   "execution_count": null,
   "metadata": {
    "id": "OhWH60h_zOT7"
   },
   "outputs": [],
   "source": [
    "cars = [\"VW\", \"Seat\", \"BMW\", \"VW\"]"
   ]
  },
  {
   "cell_type": "markdown",
   "metadata": {
    "id": "7ioY_0HzzOT7"
   },
   "source": [
    "### Métodos: ordenar, tamaño, invertir orden, ocurrencia\n",
    "[al indice](#Contenidos)  \n",
    "\n",
    "En este apartado veremos los métodos más útiles, pero podrás consultar el resto en [este enlace](https://www.w3schools.com/python/python_ref_list.asp)"
   ]
  },
  {
   "cell_type": "code",
   "execution_count": 23,
   "metadata": {
    "id": "sRz1xc0kzOT8"
   },
   "outputs": [
    {
     "name": "stdout",
     "output_type": "stream",
     "text": [
      "[15, 18, 22, 22, 26, 34]\n",
      "[34, 26, 22, 22, 18, 15]\n",
      "6\n",
      "[15, 18, 22, 22, 26, 34]\n",
      "2\n"
     ]
    }
   ],
   "source": [
    "degrees = [22, 34, 15, 26, 18, 22]\n",
    "# Ordenar\n",
    "degrees.sort()\n",
    "print(degrees)\n",
    "\n",
    "degrees.sort(reverse = True)\n",
    "print(degrees)\n",
    "\n",
    "#Contar el numero de elementos\n",
    "print(len(degrees))\n",
    "\n",
    "#Invertir la lista\n",
    "degrees.reverse()\n",
    "print(degrees)\n",
    "\n",
    "#Ocurrencias de un elemento (encontrar un elemento duplicado)\n",
    "print(degrees.count(22))"
   ]
  },
  {
   "cell_type": "markdown",
   "metadata": {
    "id": "4LllYkvpzOT8"
   },
   "source": [
    "<table align=\"left\">\n",
    " <tr>\n",
    "     <td style=\"text-align:left\">\n",
    "         <h3>ERRORES indice</h3>\n",
    "         \n",
    " </td></tr>\n",
    "</table>"
   ]
  },
  {
   "cell_type": "markdown",
   "metadata": {
    "id": "PtXAT0TjzOT8"
   },
   "source": [
    "Mucho cuidado cuando accedemos a los elementos de la lista. Es un error muy habitual acceder a un índice que no existe en la lista.\n",
    "\n",
    "Si estamos accediendo al ultimo elemento, en vez de poner el numero de su indice, poner mejor `-1`, y asi evitamos errores"
   ]
  },
  {
   "cell_type": "code",
   "execution_count": 24,
   "metadata": {
    "id": "kvXEjHhwzOT8"
   },
   "outputs": [
    {
     "ename": "IndexError",
     "evalue": "list index out of range",
     "output_type": "error",
     "traceback": [
      "\u001b[1;31m---------------------------------------------------------------------------\u001b[0m",
      "\u001b[1;31mIndexError\u001b[0m                                Traceback (most recent call last)",
      "Cell \u001b[1;32mIn[24], line 2\u001b[0m\n\u001b[0;32m      1\u001b[0m degrees \u001b[38;5;241m=\u001b[39m [\u001b[38;5;241m22\u001b[39m, \u001b[38;5;241m34\u001b[39m, \u001b[38;5;241m15\u001b[39m, \u001b[38;5;241m26\u001b[39m, \u001b[38;5;241m18\u001b[39m, \u001b[38;5;241m22\u001b[39m]\n\u001b[1;32m----> 2\u001b[0m \u001b[38;5;28mprint\u001b[39m(\u001b[43mdegrees\u001b[49m\u001b[43m[\u001b[49m\u001b[38;5;241;43m123\u001b[39;49m\u001b[43m]\u001b[49m)\n",
      "\u001b[1;31mIndexError\u001b[0m: list index out of range"
     ]
    }
   ],
   "source": [
    "degrees = [22, 34, 15, 26, 18, 22]\n",
    "print(degrees[123])"
   ]
  },
  {
   "cell_type": "markdown",
   "metadata": {
    "id": "_2s7whKJzOT8"
   },
   "source": [
    "Si tenemos este tipo de errores y no sabemos resolverlos, lo mejor es imprimir la longitud de la lista, y todos los elementos."
   ]
  },
  {
   "cell_type": "code",
   "execution_count": 27,
   "metadata": {
    "id": "Xq3SxPP3zOT8"
   },
   "outputs": [
    {
     "name": "stdout",
     "output_type": "stream",
     "text": [
      "22\n"
     ]
    }
   ],
   "source": [
    "ultimo_elemento = degrees[-1]\n",
    "print(ultimo_elemento)"
   ]
  },
  {
   "cell_type": "code",
   "execution_count": null,
   "metadata": {},
   "outputs": [],
   "source": []
  }
 ],
 "metadata": {
  "colab": {
   "provenance": []
  },
  "kernelspec": {
   "display_name": "Python 3 (ipykernel)",
   "language": "python",
   "name": "python3"
  },
  "language_info": {
   "codemirror_mode": {
    "name": "ipython",
    "version": 3
   },
   "file_extension": ".py",
   "mimetype": "text/x-python",
   "name": "python",
   "nbconvert_exporter": "python",
   "pygments_lexer": "ipython3",
   "version": "3.10.11"
  }
 },
 "nbformat": 4,
 "nbformat_minor": 4
}
