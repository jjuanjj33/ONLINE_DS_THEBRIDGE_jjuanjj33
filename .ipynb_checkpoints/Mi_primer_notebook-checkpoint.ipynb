{
 "cells": [
  {
   "cell_type": "code",
   "execution_count": 1,
   "id": "a9eaadce-f486-43e0-967f-27f48e08bb7e",
   "metadata": {},
   "outputs": [
    {
     "name": "stdout",
     "output_type": "stream",
     "text": [
      "Hola Mudo\n"
     ]
    }
   ],
   "source": [
    "print (\"Hola Mudo\")"
   ]
  },
  {
   "cell_type": "markdown",
   "id": "919b6b26-2d44-4b6d-956b-35d901ed988e",
   "metadata": {},
   "source": [
    "Hola Mundo"
   ]
  },
  {
   "cell_type": "code",
   "execution_count": null,
   "id": "b4ecbb06-023d-4f77-8b95-ee68713364d2",
   "metadata": {},
   "outputs": [],
   "source": []
  }
 ],
 "metadata": {
  "kernelspec": {
   "display_name": "Python 3 (ipykernel)",
   "language": "python",
   "name": "python3"
  },
  "language_info": {
   "codemirror_mode": {
    "name": "ipython",
    "version": 3
   },
   "file_extension": ".py",
   "mimetype": "text/x-python",
   "name": "python",
   "nbconvert_exporter": "python",
   "pygments_lexer": "ipython3",
   "version": "3.10.11"
  }
 },
 "nbformat": 4,
 "nbformat_minor": 5
}
