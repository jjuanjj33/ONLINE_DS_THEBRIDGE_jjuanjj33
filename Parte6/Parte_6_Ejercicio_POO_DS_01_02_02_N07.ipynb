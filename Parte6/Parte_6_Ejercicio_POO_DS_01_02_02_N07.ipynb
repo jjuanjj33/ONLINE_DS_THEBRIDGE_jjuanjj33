{
 "cells": [
  {
   "cell_type": "markdown",
   "metadata": {
    "id": "vigJnuAMSU4x"
   },
   "source": [
    "![TheBridge_logo_RGB_color.jpg](attachment:TheBridge_logo_RGB_color.jpg)"
   ]
  },
  {
   "cell_type": "markdown",
   "metadata": {
    "id": "2xmnwM17SU4y"
   },
   "source": [
    "![ejercicios.png](attachment:ejercicios.png)"
   ]
  },
  {
   "cell_type": "markdown",
   "metadata": {
    "id": "liorA-1ZSU4y"
   },
   "source": [
    "# Ejercicios Clases y Objetos"
   ]
  },
  {
   "cell_type": "markdown",
   "metadata": {
    "id": "5xXUz5l9SU4z"
   },
   "source": [
    "## Ejercicio 1\n",
    "Somos una empresa que tiene varias tiendas de electrodomesticos. Necesitamos un programa para manejar las tiendas, ver las ventas que han tenido, cuántos empleados hay, etc... Para ello vamos a modelizar la tienda en una clase, que tendrá las siguientes características:\n",
    "* Nombre clase: \"Tienda\"\n",
    "* Atributos comunes:\n",
    "    * Tipo: \"Electrodomésticos\"\n",
    "    * Abierta: True\n",
    "* Atributos propios de cada tienda:\n",
    "    * Nombre - String\n",
    "    * Dirección - String\n",
    "    * Número de empleados - int\n",
    "    * Ventas ultimos 3 meses - Lista de 3 numeros\n",
    "* Método para calcular las ventas de todos los meses, que devuelva un numero con todas las ventas.\n",
    "* Método que calcula la media de ventas de los ultimos meses, por empleado\n",
    "* Método que devuelve en un string el nombre de la tienda, junto con su dirección.\n",
    "* Método que obtiene las ventas del último mes.\n",
    "* Método para dar una proyección de las ventas en caso de haber invertido X dinero en marketing en esa tienda. Siendo X el parámetro de entrada. Si X es menor de 1000, las ventas de los ultimos 3 meses hubiesen sido de (1.2 x ventas), si es mayor o igual de 1000, las ventas hubiesen sido de (1.5 x venta). El método reescribe el atributo de ventas en los últimos 3 meses, y además devuelve las ventas con el aumento.\n",
    "\n",
    "Se pide:\n",
    "1. Implementar la clase \"Tienda\"\n",
    "2. Crear tres tiendas con datos inventados\n",
    "3. Comprueba en al menos una de ellas, todo lo implementado en la clase tienda (sus atributos, media de ventas, ventas/empleado...)\n",
    "3. Calcular las ventas del último mes de todas las tiendas. Para ello usa el bucle `for`\n",
    "4. Imprime por pantalla los nombres de las tiendas cuya dirección lleve el string \"Avenida\"\n",
    "5. Seguro que ya has hecho este apartado... Documenta la clase :)"
   ]
  },
  {
   "cell_type": "code",
   "execution_count": 55,
   "metadata": {
    "id": "5cLQcLxfSU4z"
   },
   "outputs": [],
   "source": [
    "#1. Implementar la clase \"Tienda\"\n",
    "class Tienda:\n",
    "    tipo = \"Electrodomésticos\"\n",
    "    Abierta = True\n",
    "    \n",
    "    def __init__(self, nombre, direccion, empleados, venta_ult_3meses): # Este es nuestro constructor.\n",
    "        self.nombre = str(nombre)\n",
    "        self.direccion = str(direccion)\n",
    "        self.empleados = int(empleados)\n",
    "        self.venta_ult_3meses = venta_ult_3meses # Es una lista que pasamos como argumento dentro del metodo constructor.\n",
    "\n",
    "# Estos 3 siguientes atributos se dejan seteados en \"0\" para luego poder usarlos en la definición de los metodos.\n",
    "        self.ventas_totales = 0 \n",
    "        self.media = 0\n",
    "        self.ultima_venta = 0\n",
    "\n",
    "# Definimos el método para calcular las ventas de todos los meses, que devuelva un numero con todas las ventas.\n",
    "    def ventasTotales(self):\n",
    "        total = sum(self.venta_ult_3meses)\n",
    "        self.ventas_totales = total\n",
    "        return self.ventas_totales\n",
    "\n",
    "# Definimos el método que calcula la media de ventas de los ultimos meses, por empleado.\n",
    "    def mediaVentas(self):\n",
    "        total = sum(self.venta_ult_3meses)\n",
    "        self.media = total / self.empleados\n",
    "        return self.media\n",
    "\n",
    "# Definimos el método que devuelve en un string el nombre de la tienda, junto con su dirección.\n",
    "    def printInfo(self):\n",
    "        print(\"La tienda se llama:\",self.nombre)\n",
    "        print(\"Y se encuentra en:\",self.direccion)\n",
    "\n",
    "# Definimos el método que obtiene las ventas del último mes.\n",
    "    def ultVenta(self):\n",
    "        self.ultima_venta = self.venta_ult_3meses[-1] # Coge el ultimo elemento de la lista de venta ultimos 3 meses.\n",
    "        return self.ultima_venta\n",
    "\n",
    "# Definimos el método para dar una proyección de las ventas\n",
    "    def marketing(self, inversion):\n",
    "        self.inversion = inversion\n",
    "        total = sum(self.venta_ult_3meses) # Sumamos las ventas de los ultimos tres meses.\n",
    "        if self.inversion < 1000:\n",
    "            self.ventas_totales = total * 1.2\n",
    "            return self.ventas_totales\n",
    "        elif self.inversion >= 1000:\n",
    "            self.ventas_totales = total * 1.5\n",
    "            return self.ventas_totales\n",
    "\n",
    "    "
   ]
  },
  {
   "cell_type": "code",
   "execution_count": 78,
   "metadata": {},
   "outputs": [
    {
     "name": "stdout",
     "output_type": "stream",
     "text": [
      "La tienda se llama: Todo para tu casa\n",
      "Y se encuentra en: Calle Fuencaral, 12\n",
      "\n",
      "Su media de ventas ha sido de: 4.333333333333333 por empleado.\n",
      "Las ventas totales de la tienda han sido de: 65 electrodomesticos.\n",
      "Su última venta ha sido de 23 electrodomesticos.\n",
      "Sus próxiimas ventas se preven de: 97.5 para el siguiente trimestre. \n",
      "\n",
      "La última venta de 'Todo para tu casa' ha sido de: 23\n",
      "La última venta de 'Tu Electrodomestico de Aravaca' ha sido de: 12\n",
      "La última venta de 'Mediamarkt' ha sido de: 88\n",
      "\n",
      "\n",
      "Las tiendas cuyas direcciones coinciden con 'Avenida' son: Avenida Olivo, 19\n",
      "Las tiendas cuyas direcciones coinciden con 'Avenida' son: Avenida del Poligono Industrial San Sebastían de los Reyes, 65\n"
     ]
    }
   ],
   "source": [
    "#2. Crear tres tiendas con datos inventados\n",
    "## Pasamos los argumentos, nombre, dirección, empleados, ventas\n",
    "tienda1 = Tienda(\"Todo para tu casa\", \"Calle Fuencaral, 12\", 15,[20, 22, 23])\n",
    "tienda2 = Tienda(\"Tu Electrodomestico de Aravaca\", \"Avenida Olivo, 19\", 7,[11, 10, 12])\n",
    "tienda3 = Tienda(\"Mediamarkt\", \"Avenida del Poligono Industrial San Sebastían de los Reyes, 65\", 55,[60, 70, 88])\n",
    "\n",
    "#3. Comprueba en al menos una de ellas, todo lo implementado en la clase tienda (sus atributos, media de ventas, ventas/empleado...)\n",
    "## Usamos la tienda 1 para comprobar los metodos.\n",
    "tienda1.printInfo()\n",
    "print(\"\\nSu media de ventas ha sido de:\", tienda1.mediaVentas(), \"por empleado.\")\n",
    "print(\"Las ventas totales de la tienda han sido de:\", tienda1.ventasTotales(), \"electrodomesticos.\")\n",
    "print(\"Su última venta ha sido de\", tienda1.ultVenta(), \"electrodomesticos.\")\n",
    "print(\"Sus próxiimas ventas se preven de:\", tienda1.marketing(1200), \"para el siguiente trimestre.\",\"\\n\")\n",
    "\n",
    "#4. Calcular las ventas del último mes de todas las tiendas. Para ello usa el bucle for.\n",
    "## Creamos una lista con todas las tiendas que nos permitirá luego iterar dentro de ella.\n",
    "todas_las_tiendas = [tienda1, tienda2, tienda3]\n",
    "\n",
    "for tienda in todas_las_tiendas:\n",
    "    tienda_ultima_venta = tienda.ultVenta()\n",
    "    print(\"La última venta de '\", tienda.nombre,\"' ha sido de: \", tienda.ultVenta(), sep = \"\")\n",
    "\n",
    "#5. Imprime por pantalla los nombres de las tiendas cuya dirección lleve el string \"Avenida\"\n",
    "print(\"\\n\") # Para separar los ejercicios.\n",
    "\n",
    "## Meteremos una condición para meter si cumple con el requisito.\n",
    "for tienda in todas_las_tiendas:\n",
    "    tienda_direccion = tienda.direccion\n",
    "    if tienda_direccion.split(\" \")[0] == \"Avenida\":\n",
    "        print(\"Las tiendas cuyas direcciones coinciden con 'Avenida' son:\",tienda.direccion)"
   ]
  },
  {
   "cell_type": "markdown",
   "metadata": {
    "id": "WEBq7EpsSU40"
   },
   "source": [
    "## Ejercicio 2\n",
    "En este ejercicio vamos a implementar una clase *Perro* en Python. La clase tiene las siguientes características:\n",
    "* Cosas que sabemos seguro que tiene un perro\n",
    "    * Tiene 4 patas\n",
    "    * 2 orejas\n",
    "    * 2 ojos\n",
    "    * Una velocidad de 0. Por defecto, el perro está parado\n",
    "* Cuando se inicialice:\n",
    "    * El perro será de una determinada raza\n",
    "    * Por defecto tendrá pelo \"Marrón\", a no ser que se diga lo contrario.\n",
    "    * Por defecto no tendrá dueño, a no ser que se diga lo contrario.\n",
    "    \n",
    "* Dispondrá también de un método llamado andar, que tiene un argumento de entrada (aumento_velocidad). Este valor se le sumará a la velocidad que ya llevaba el perro.\n",
    "* Necesita otro método (parar), donde pondremos la velocidad a 0.\n",
    "* Otro método llamado \"ladrar\", que tendrá un argumento de entrada, y la salida será el siguiente string: \"GUAU!\" + el argumento de entrada.\n",
    "\n",
    "\n",
    "Se pide:\n",
    "* Implementa la clase *Perro*\n",
    "* Crea un objeto de tipo *Perro*, sin dueño\n",
    "* Comprueba que están bien todos sus atributos\n",
    "* Prueba que ande, y comprueba su velocidad\n",
    "* Páralo\n",
    "* Documenta la clase *Perro*"
   ]
  },
  {
   "cell_type": "code",
   "execution_count": 90,
   "metadata": {
    "id": "DpEWvbwGSU40"
   },
   "outputs": [],
   "source": [
    "class Perro:\n",
    "# Definimos el constructor de la clase Perro.\n",
    "    def __init__(self, patas = 4, orejas = 2, ojos = 2, velocidad = 0, pelo = \"Marrón\", duenio = False):\n",
    "        self.patas = patas\n",
    "        self.orejas = orejas\n",
    "        self.ojos = ojos\n",
    "        self.velocidad = velocidad\n",
    "        self.raza = \"\"\n",
    "        self.pelo = pelo\n",
    "        self.duenio = duenio\n",
    "        self.guau = \"GUAU!\"\n",
    "\n",
    "# Definimos el metodo Andar.\n",
    "    def Andar(self, aumento_velocidad):\n",
    "        self.aumento_velocidad = float(aumento_velocidad)\n",
    "        self.velocidad = self.velocidad + self.aumento_velocidad\n",
    "        return self.aumento_velocidad\n",
    "\n",
    "# Definimos el metodo Parar.\n",
    "    def Parar(self, velocidad = 0):\n",
    "        self.velocidad = velocidad\n",
    "        return self.velocidad\n",
    "\n",
    "# Definimos el metodo ladrar.\n",
    "    def Ladrar(self, entrada = \"\"):\n",
    "        self.entrada = entrada\n",
    "        return self.entrada + self.guau\n",
    "\n",
    "# Metodo para ver los atributos del perro.\n",
    "    def printInfo(self):\n",
    "        print(\"El perro tiene\",self.patas, \"patas.\")\n",
    "        print(\"El perro tiene\",self.orejas, \"orejas.\")\n",
    "        print(\"El perro tiene\",self.ojos, \"ojos.\")\n",
    "        print(\"La raza del perro es:\",self.raza)\n",
    "        print(\"El perro tiene el pelo:\",self.pelo)\n",
    "        print(\"El perro tiene dueño:\",self.duenio)"
   ]
  },
  {
   "cell_type": "code",
   "execution_count": 92,
   "metadata": {},
   "outputs": [
    {
     "name": "stdout",
     "output_type": "stream",
     "text": [
      "El perro tiene 4 patas.\n",
      "El perro tiene 2 orejas.\n",
      "El perro tiene 2 ojos.\n",
      "La raza del perro es: \n",
      "El perro tiene el pelo: Marrón\n",
      "El perro tiene dueño: False\n",
      "\n",
      "El perro anda, su velocidad es: 3.0\n",
      "El perro ha parado, su velocidad es: 0\n",
      "Hey qué pasa! GUAU!\n"
     ]
    }
   ],
   "source": [
    "#1. Implementa la clase Perro - Ver más arriba\n",
    "\n",
    "#2. Crea un objeto de tipo Perro, sin dueño\n",
    "perro1 = Perro()\n",
    "\n",
    "#3. Comprueba que están bien todos sus atributos\n",
    "perro1.printInfo()\n",
    "\n",
    "#4. Prueba que ande, y comprueba su velocidad\n",
    "print(\"\\nEl perro anda, su velocidad es:\",perro1.Andar(3))\n",
    "print(\"El perro ha parado, su velocidad es:\",perro1.Parar())\n",
    "print(perro1.Ladrar(\"Hey qué pasa! \"))\n"
   ]
  },
  {
   "cell_type": "code",
   "execution_count": null,
   "metadata": {},
   "outputs": [],
   "source": []
  }
 ],
 "metadata": {
  "colab": {
   "provenance": []
  },
  "kernelspec": {
   "display_name": "Python 3 (ipykernel)",
   "language": "python",
   "name": "python3"
  },
  "language_info": {
   "codemirror_mode": {
    "name": "ipython",
    "version": 3
   },
   "file_extension": ".py",
   "mimetype": "text/x-python",
   "name": "python",
   "nbconvert_exporter": "python",
   "pygments_lexer": "ipython3",
   "version": "3.10.11"
  }
 },
 "nbformat": 4,
 "nbformat_minor": 4
}
